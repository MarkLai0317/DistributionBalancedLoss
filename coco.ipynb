{
 "cells": [
  {
   "cell_type": "markdown",
   "metadata": {},
   "source": [
    "# class_freq"
   ]
  },
  {
   "cell_type": "code",
   "execution_count": 3,
   "metadata": {},
   "outputs": [],
   "source": [
    "import os\n",
    "import pickle\n",
    "\n",
    "\n",
    "def get_pkl_file(path):\n",
    "    if os.path.exists(path):\n",
    "        with open(path, \"rb\") as file:\n",
    "            data = pickle.load(file)\n",
    "    else:\n",
    "        print(\"File not found at path:\", path)\n",
    "    return data\n"
   ]
  },
  {
   "cell_type": "code",
   "execution_count": null,
   "metadata": {},
   "outputs": [],
   "source": [
    "class_freq = get_pkl_file(\"appendix/coco/longtail2017/class_freq.pkl\")\n",
    "class_freq\n",
    "\n",
    "# class_freq = number of positive samples for each labels\n",
    "# neg_class_freq = number of negative samples for each labels\n",
    "# condition_prob"
   ]
  },
  {
   "cell_type": "code",
   "execution_count": 5,
   "metadata": {},
   "outputs": [
    {
     "data": {
      "text/plain": [
       "80"
      ]
     },
     "execution_count": 5,
     "metadata": {},
     "output_type": "execute_result"
    }
   ],
   "source": [
    "len(class_freq[\"condition_prob\"][0])"
   ]
  },
  {
   "cell_type": "code",
   "execution_count": 6,
   "metadata": {},
   "outputs": [
    {
     "data": {
      "text/plain": [
       "3.4654255319148928"
      ]
     },
     "execution_count": 6,
     "metadata": {},
     "output_type": "execute_result"
    }
   ],
   "source": [
    "sum(class_freq[\"condition_prob\"][0][1:])"
   ]
  },
  {
   "cell_type": "code",
   "execution_count": 23,
   "metadata": {},
   "outputs": [],
   "source": [
    "import numpy as np\n",
    "\n",
    "# array is 2d\n",
    "def calculate_ratio(array: np.array, base_index: int, target_index: int):\n",
    "    # Ensure the array is a 2D numpy array\n",
    "    array = np.array(array)\n",
    "\n",
    "    # Count of indices where both array[0][i] == 1 and array[1][i] == 1\n",
    "    shared_count = np.sum((array[:,base_index] == 1) & (array[:,target_index] == 1))\n",
    "\n",
    "    # Count of indices where array[0][i] == 1\n",
    "    total_count = np.sum(array[:,base_index] == 1)\n",
    "\n",
    "    # Avoid division by zero\n",
    "    if total_count == 0:\n",
    "        return 0\n",
    "    else:\n",
    "        return shared_count / total_count\n",
    "def calculate_ratio_base_index(array: np.array, base_index: int):\n",
    "    array = np.array(array)\n",
    "    return np.array([calculate_ratio(array, base_index, i) for i in range(array.shape[1])])\n",
    "\n",
    "def calculate_ratio_all(array: np.array):\n",
    "    array = np.array(array)\n",
    "    return np.array([calculate_ratio_base_index(array, i) for i in range(array.shape[1])])"
   ]
  },
  {
   "cell_type": "code",
   "execution_count": 28,
   "metadata": {},
   "outputs": [
    {
     "data": {
      "text/plain": [
       "False"
      ]
     },
     "execution_count": 28,
     "metadata": {},
     "output_type": "execute_result"
    }
   ],
   "source": [
    "False  in (calculate_ratio_all(class_freq[\"gt_labels\"]) == class_freq[\"condition_prob\"])"
   ]
  },
  {
   "cell_type": "code",
   "execution_count": null,
   "metadata": {},
   "outputs": [],
   "source": [
    "class_freq[\"gt_labels\"][:][1]"
   ]
  },
  {
   "cell_type": "markdown",
   "metadata": {},
   "source": [
    "# class_split.pkl"
   ]
  },
  {
   "cell_type": "code",
   "execution_count": null,
   "metadata": {},
   "outputs": [],
   "source": [
    "class_split = get_pkl_file(\"appendix/coco/longtail2017/class_split.pkl\")\n",
    "class_split"
   ]
  },
  {
   "cell_type": "code",
   "execution_count": 31,
   "metadata": {},
   "outputs": [
    {
     "data": {
      "text/plain": [
       "set"
      ]
     },
     "execution_count": 31,
     "metadata": {},
     "output_type": "execute_result"
    }
   ],
   "source": [
    "type(class_split['middle'])"
   ]
  },
  {
   "cell_type": "markdown",
   "metadata": {},
   "source": [
    "# longtail2017class_split"
   ]
  },
  {
   "cell_type": "code",
   "execution_count": null,
   "metadata": {},
   "outputs": [],
   "source": [
    "terse_gt = get_pkl_file(\"appendix/coco/terse_gt_2017.pkl\")\n",
    "terse_gt"
   ]
  },
  {
   "cell_type": "code",
   "execution_count": 35,
   "metadata": {},
   "outputs": [
    {
     "data": {
      "text/plain": [
       "118287"
      ]
     },
     "execution_count": 35,
     "metadata": {},
     "output_type": "execute_result"
    }
   ],
   "source": [
    "len(terse_gt[\"idx2img_id\"] )"
   ]
  },
  {
   "cell_type": "markdown",
   "metadata": {},
   "source": [
    "# annotations"
   ]
  },
  {
   "cell_type": "code",
   "execution_count": null,
   "metadata": {},
   "outputs": [],
   "source": [
    "import json\n",
    "from typing import List\n",
    "\n",
    "def fileter_annotation(desired_labels: List[str], annotation_path: str,output_file_path: str):\n",
    "\n",
    "\n",
    "    # COCO's standard 80 class names\n",
    "    coco_labels = [\n",
    "        'person', 'bicycle', 'car', 'motorcycle', 'airplane', 'bus', 'train', 'truck',\n",
    "        'boat', 'traffic light', 'fire hydrant', 'stop sign', 'parking meter', 'bench',\n",
    "        'bird', 'cat', 'dog', 'horse', 'sheep', 'cow', 'elephant', 'bear', 'zebra', 'giraffe',\n",
    "        'backpack', 'umbrella', 'handbag', 'tie', 'suitcase', 'frisbee', 'skis',\n",
    "        'snowboard', 'sports ball', 'kite', 'baseball bat', 'baseball glove', 'skateboard',\n",
    "        'surfboard', 'tennis racket', 'bottle', 'wine glass', 'cup', 'fork', 'knife', 'spoon',\n",
    "        'bowl', 'banana', 'apple', 'sandwich', 'orange', 'broccoli', 'carrot', 'hot dog',\n",
    "        'pizza', 'donut', 'cake', 'chair', 'couch', 'potted plant', 'bed', 'dining table',\n",
    "        'toilet', 'TV', 'laptop', 'mouse', 'remote', 'keyboard', 'cell phone', 'microwave',\n",
    "        'oven', 'toaster', 'sink', 'refrigerator', 'book', 'clock', 'vase', 'scissors',\n",
    "        'teddy bear', 'hair drier', 'toothbrush'\n",
    "    ]\n",
    "\n",
    "    # Desired COCO labels to retain\n",
    "    desired_labels = ['car', 'bicycle', 'bus']\n",
    "\n",
    "    # Find the original indices of the desired labels\n",
    "    desired_indices = [coco_labels.index(label) for label in desired_labels]\n",
    "\n",
    "    # Create a mapping from original COCO indices to new indices (keeping their order relative to their original index)\n",
    "    index_mapping = {original_idx: new_idx for new_idx, original_idx in enumerate(desired_indices)}\n",
    "\n",
    "    # Load COCO annotation file\n",
    "    with open(annotation_path, \"r\") as f:\n",
    "        data = json.load(f)\n",
    "\n",
    "    # Filter only annotations belonging to desired categories and reassign indices\n",
    "    filtered_annotations = []\n",
    "    for ann in data['annotations']:\n",
    "        if ann['category_id'] in index_mapping:\n",
    "            ann['category_id'] = index_mapping[ann['category_id']]  # Map the original index to the new index\n",
    "            filtered_annotations.append(ann)\n",
    "\n",
    "    # Filter the categories list to only include the desired categories with their new indices\n",
    "    filtered_categories = [\n",
    "        {\"id\": index_mapping[coco_labels.index(label)], \"name\": label}\n",
    "        for label in desired_labels\n",
    "    ]\n",
    "\n",
    "    # Create new JSON structure with filtered annotations and categories\n",
    "    filtered_data = {\n",
    "        \"images\": data[\"images\"],  # Keep original image information\n",
    "        \"annotations\": filtered_annotations,\n",
    "        \"categories\": filtered_categories\n",
    "    }\n",
    "    if not os.path.exists(output_file_path):\n",
    "        os.makedirs(os.path.dirname(output_file_path))  # Create directory if it doesn't exist\n",
    "    # Write to a new JSON file\n",
    "    with open(output_file_path, \"w\") as f:\n",
    "        json.dump(filtered_data, f)\n",
    "\n",
    "    print(\"Filtered annotations saved to 'filtered_annotations.json'\")\n"
   ]
  }
 ],
 "metadata": {
  "kernelspec": {
   "display_name": ".venv",
   "language": "python",
   "name": "python3"
  },
  "language_info": {
   "codemirror_mode": {
    "name": "ipython",
    "version": 3
   },
   "file_extension": ".py",
   "mimetype": "text/x-python",
   "name": "python",
   "nbconvert_exporter": "python",
   "pygments_lexer": "ipython3",
   "version": "3.8.18"
  }
 },
 "nbformat": 4,
 "nbformat_minor": 2
}
