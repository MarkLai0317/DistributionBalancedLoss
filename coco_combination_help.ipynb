{
 "cells": [
  {
   "cell_type": "code",
   "execution_count": 4,
   "metadata": {},
   "outputs": [],
   "source": [
    "import re\n",
    "import mmcv\n",
    "from sklearn.metrics import average_precision_score\n",
    "import numpy as np\n",
    "from typing import Tuple\n",
    "\n",
    "def get_epoch(file_path: str):\n",
    "# Read the file\n",
    "  with open(file_path, \"r\") as file:\n",
    "      content = file.read()\n",
    "\n",
    "  # Use regex to extract the number after \"mAP:\"\n",
    "  match = re.search(r\"mAP:\\s*(\\d+)\", content)\n",
    "  if match:\n",
    "      epoch = int(match.group(1))\n",
    "      return epoch\n",
    "  else:\n",
    "      print(\"Epoch not found.\")\n",
    "\n",
    "def get_gt_pred(file_path: str):\n",
    "    output_and_gt = mmcv.load(file_path)\n",
    "    return np.array(output_and_gt[0]['outputs']), np.array(output_and_gt[0]['gt_labels'])\n",
    "# import numpy as np\n",
    "# outputs_result = None\n",
    "# gt_labels_result = None\n",
    "# for i in range(1,5):\n",
    "#     file_path = f\"coco/coco_uniform_bce_group{i}.txt\"\n",
    "#     epoch = get_epoch(file_path)\n",
    "#     outputs, gt_labels = get_gt_pred(f\"work_dirs/LT_coco_resnet50_pfc_DB_uniform_bce_group{i}/gt_and_results_e{epoch}.pkl\")\n",
    "#     if outputs_result is None:\n",
    "#         outputs_result = outputs\n",
    "#     else:\n",
    "#         outputs_result = np.hstack((np.array(outputs_result), np.array(outputs)))\n",
    "#     if gt_labels_result is None:\n",
    "#         gt_labels_result = gt_labels\n",
    "#     else:\n",
    "#         gt_labels_result = np.hstack((np.array(gt_labels_result), np.array(gt_labels)))\n",
    "    \n",
    "\n",
    "def calculate_mAP(all_preds: np.ndarray, all_labels: np.ndarray) -> Tuple[np.float64, list]:\n",
    "    label_cnt = len(all_labels[0])\n",
    "    mAP = 0\n",
    "    mAP_per_label = []\n",
    "    # print(label_cnt)\n",
    "    all_labels = np.array(all_labels)\n",
    "    all_preds = np.array(all_preds)\n",
    "    for i in range(label_cnt):\n",
    "        # print(np.sum(all_labels[:, i]) > 0)\n",
    "        AP = average_precision_score(all_labels[:, i], all_preds[:, i])\n",
    "        mAP_per_label.append(AP)\n",
    "        mAP += AP\n",
    "\n",
    "    mAP /= label_cnt\n",
    "    APs = average_precision_score(all_labels, all_preds, average=None) \n",
    "    mAP = APs.mean()\n",
    "\n",
    "    return mAP, mAP_per_label\n",
    "def get_3_split_map(outputs_result, gt_labels_result):\n",
    "    map_score1 =  calculate_mAP( np.array(outputs_result)[:, :22], np.array(gt_labels_result)[:, :22])\n",
    "    # print(f\"head mAP: {map_score1[0]:.4f}\")\n",
    "    # print(np.array(map_score[1]))\n",
    "    map_score2 =  calculate_mAP( np.array(outputs_result)[:, 22:55], np.array(gt_labels_result)[:, 22:55])\n",
    "    # print(f\"mid mAP: {map_score2[0]:.4f}\")\n",
    "    # print(np.array(map_score[1]))\n",
    "    map_score3 =  calculate_mAP( np.array(outputs_result)[:, 55:], np.array(gt_labels_result)[:, 55:])\n",
    "\n",
    "    total = calculate_mAP( np.array(outputs_result), np.array(gt_labels_result))\n",
    "    # print(f\"tail mAP: {map_score3[0]:.4f}\")\n",
    "    print([round(map_score1[0], 4), round(map_score2[0], 4), round(map_score3[0], 4), round(total[0], 4)])\n",
    "    # print(np.array(map_score[1]))\n",
    "\n",
    "\n",
    "# get_3_split_map(outputs_result, gt_labels_result)"
   ]
  },
  {
   "cell_type": "code",
   "execution_count": 109,
   "metadata": {},
   "outputs": [],
   "source": [
    "import ast\n",
    "import pandas as pd\n",
    "original_position = pd.read_csv(\"/home/mark/Desktop/工研院/multi-label_classification/data/coco/group2_original_positions_per_step.csv\")\n",
    "original_position['original_positions'] = original_position['original_positions'].apply(ast.literal_eval)\n",
    "def get_original_index(step):\n",
    "    if step in original_position['step'].values:\n",
    "        return original_position.loc[original_position['step'] == step, 'original_positions'].values[0]\n",
    "    else:\n",
    "        raise ValueError(f\"Step {step} not found.\")"
   ]
  },
  {
   "cell_type": "code",
   "execution_count": 115,
   "metadata": {},
   "outputs": [
    {
     "name": "stderr",
     "output_type": "stream",
     "text": [
      "100%|██████████| 17/17 [00:44<00:00,  2.59s/it]\n"
     ]
    }
   ],
   "source": [
    "from tqdm import tqdm\n",
    "best_score_list = []\n",
    "range_left, range_right = 0, 11\n",
    "for ri in tqdm(range(1, 18)):\n",
    "    work_dir_str = f\"LT_coco_resnet50_pfc_DB_uniform_bce_35_6_group1_l0_r{ri}\"\n",
    "    best_score = 0\n",
    "    best_epoch = 0\n",
    "    epoch_list = []\n",
    "    for i in range(1,81):\n",
    "        # epoch = get_epoch(file_path)\n",
    "        outputs, gt_labels = get_gt_pred(f\"work_dirs/{work_dir_str}/gt_and_results_e{i}.pkl\")\n",
    "        epoch_list.append((outputs, gt_labels))\n",
    "        map_score = calculate_mAP(outputs[:,range_left: range_right ], gt_labels[:,range_left: range_right ])\n",
    "        if map_score[0] > best_score:\n",
    "            best_score = map_score[0]\n",
    "    best_score_list.append(best_score)\n",
    "\n"
   ]
  },
  {
   "cell_type": "code",
   "execution_count": 114,
   "metadata": {},
   "outputs": [
    {
     "data": {
      "text/plain": [
       "[0.6302228720370208,\n",
       " 0.6288683594595657,\n",
       " 0.6227333914497694,\n",
       " 0.6216182740062414,\n",
       " 0.6267958467001103,\n",
       " 0.6269370829145641,\n",
       " 0.6111917834746652,\n",
       " 0.6110707802614683,\n",
       " 0.6156081032266659,\n",
       " 0.5972553884034454,\n",
       " 0.586243483137789,\n",
       " 0.5809931827375383]"
      ]
     },
     "execution_count": 114,
     "metadata": {},
     "output_type": "execute_result"
    }
   ],
   "source": [
    "best_score_list"
   ]
  },
  {
   "cell_type": "code",
   "execution_count": 112,
   "metadata": {},
   "outputs": [
    {
     "data": {
      "text/plain": [
       "(5000, 39)"
      ]
     },
     "execution_count": 112,
     "metadata": {},
     "output_type": "execute_result"
    }
   ],
   "source": [
    "outputs[:,get_original_index(10)].shape"
   ]
  },
  {
   "cell_type": "code",
   "execution_count": 111,
   "metadata": {},
   "outputs": [
    {
     "data": {
      "text/plain": [
       "[(0.6047600344875798, 36),\n",
       " (0.6058464672269758, 32),\n",
       " (0.6017389176220953, 38),\n",
       " (0.6045177137242295, 36),\n",
       " (0.6045391143791078, 50),\n",
       " (0.6047300344764673, 42),\n",
       " (0.6023692674625177, 48),\n",
       " (0.6033794152990145, 53),\n",
       " (0.6009239422498157, 52),\n",
       " (0.6019962043015692, 63)]"
      ]
     },
     "execution_count": 111,
     "metadata": {},
     "output_type": "execute_result"
    }
   ],
   "source": [
    "best_score_list"
   ]
  },
  {
   "cell_type": "code",
   "execution_count": 57,
   "metadata": {},
   "outputs": [
    {
     "data": {
      "text/plain": [
       "[(0.6244537242756895, 9),\n",
       " (0.631269683207284, 10),\n",
       " (0.6272452772954641, 15),\n",
       " (0.6298287881205433, 13),\n",
       " (0.6319336448824721, 16),\n",
       " (0.6304857578304011, 15),\n",
       " (0.6267199275707046, 17),\n",
       " (0.6254485757250204, 19),\n",
       " (0.6228322864000027, 20),\n",
       " (0.6241215528569193, 21),\n",
       " (0.6213801213078801, 29),\n",
       " (0.6235290169708279, 22),\n",
       " (0.6232340825305664, 28),\n",
       " (0.6228016584622147, 26),\n",
       " (0.6218446863189525, 35),\n",
       " (0.6229577895391062, 32),\n",
       " (0.6228398396331677, 30)]"
      ]
     },
     "execution_count": 57,
     "metadata": {},
     "output_type": "execute_result"
    }
   ],
   "source": [
    "best_score_list"
   ]
  },
  {
   "cell_type": "code",
   "execution_count": 27,
   "metadata": {},
   "outputs": [],
   "source": [
    "last = outputs[:,range_left: 11 ] "
   ]
  },
  {
   "cell_type": "code",
   "execution_count": 28,
   "metadata": {},
   "outputs": [
    {
     "data": {
      "text/plain": [
       "array([[ True,  True,  True, ...,  True,  True,  True],\n",
       "       [ True,  True,  True, ...,  True,  True,  True],\n",
       "       [ True,  True,  True, ...,  True,  True,  True],\n",
       "       ...,\n",
       "       [ True,  True,  True, ...,  True,  True,  True],\n",
       "       [ True,  True,  True, ...,  True,  True,  True],\n",
       "       [ True,  True,  True, ...,  True,  True,  True]])"
      ]
     },
     "execution_count": 28,
     "metadata": {},
     "output_type": "execute_result"
    }
   ],
   "source": [
    "(outputs[:, -30:] == last).every()"
   ]
  },
  {
   "cell_type": "code",
   "execution_count": 21,
   "metadata": {},
   "outputs": [
    {
     "data": {
      "text/plain": [
       "[(0.6302228720370208, 68),\n",
       " (0.6288683594595657, 71),\n",
       " (0.6227333914497694, 58),\n",
       " (0.6216182740062414, 64),\n",
       " (0.6267958467001103, 74),\n",
       " (0.6269370829145641, 72),\n",
       " (0.6111917834746652, 77),\n",
       " (0.6110707802614683, 78),\n",
       " (0.6156081032266659, 68),\n",
       " (0.5972553884034454, 75),\n",
       " (0.586243483137789, 73),\n",
       " (0.5809931827375383, 77)]"
      ]
     },
     "execution_count": 21,
     "metadata": {},
     "output_type": "execute_result"
    }
   ],
   "source": [
    "best_score_list"
   ]
  },
  {
   "cell_type": "code",
   "execution_count": 10,
   "metadata": {},
   "outputs": [
    {
     "data": {
      "text/plain": [
       "[(0.6244537242756895, 9),\n",
       " (0.631269683207284, 10),\n",
       " (0.6272452772954641, 15),\n",
       " (0.6298287881205433, 13),\n",
       " (0.6319336448824721, 16),\n",
       " (0.6304857578304011, 15),\n",
       " (0.6267199275707046, 17),\n",
       " (0.6254485757250204, 19),\n",
       " (0.6228322864000027, 20),\n",
       " (0.6241215528569193, 21),\n",
       " (0.6213801213078801, 29),\n",
       " (0.6235290169708279, 22),\n",
       " (0.6232340825305664, 28),\n",
       " (0.6228016584622147, 26),\n",
       " (0.6218446863189525, 35),\n",
       " (0.6229577895391062, 32),\n",
       " (0.6228398396331677, 30)]"
      ]
     },
     "execution_count": 10,
     "metadata": {},
     "output_type": "execute_result"
    }
   ],
   "source": [
    "best_score_list"
   ]
  },
  {
   "cell_type": "markdown",
   "metadata": {},
   "source": [
    "## best group1 index 5 (0.6319336448824721, 16)"
   ]
  },
  {
   "cell_type": "code",
   "execution_count": 83,
   "metadata": {},
   "outputs": [],
   "source": [
    "selected_indexes = [\n",
    "    28,  # suitcase\n",
    "    34,  # baseball glove\n",
    "    78,  # teddy bear\n",
    "    7,   # boat\n",
    "    38,  # tennis racket\n",
    "    14,  # bird\n",
    "    6,   # train\n",
    "    17,  # horse\n",
    "    35,  # skateboard\n",
    "    54,  # donut\n",
    "    76,  # scissors\n",
    "    51,  # hot dog\n",
    "    12,  # stop sign\n",
    "    30,  # skis\n",
    "    10,  # fire hydrant\n",
    "    29,  # frisbee\n",
    "    79,  # toothbrush\n",
    "    19,  # cow\n",
    "    33,  # kite\n",
    "    36,  # surfboard\n",
    "    4,   # airplane\n",
    "    67,  # toaster\n",
    "    13,  # parking meter\n",
    "    20,  # elephant\n",
    "    31,  # snowboard\n",
    "    18,  # sheep\n",
    "    22,  # zebra\n",
    "    23,  # giraffe\n",
    "    21,  # bear\n",
    "    77   # hair drier\n",
    "]\n",
    "\n",
    "# selected_indexes = [\n",
    "#     0,   # person\n",
    "#     57,  # dining table\n",
    "#     56,  # chair\n",
    "#     41,  # cup\n",
    "#     39,  # bottle\n",
    "#     44,  # bowl\n",
    "#     70,  # book\n",
    "#     2,   # car\n",
    "#     68,  # sink\n",
    "#     43,  # knife\n",
    "#     60   # tv\n",
    "# ]\n"
   ]
  },
  {
   "cell_type": "code",
   "execution_count": 108,
   "metadata": {},
   "outputs": [
    {
     "name": "stdout",
     "output_type": "stream",
     "text": [
      "0.5556355196620131 73\n"
     ]
    }
   ],
   "source": [
    "best_epoch = 0\n",
    "best_score = 0\n",
    "for i in range(1,81):\n",
    "    # epoch = get_epoch(file_path)\n",
    "    outputs, gt_labels = get_gt_pred(f\"work_dirs/LT_coco_resnet50_pfc_DB_uniform_bce_35_6_group1_l0_r18/gt_and_results_e{i}.pkl\")\n",
    "    epoch_list.append((outputs, gt_labels))\n",
    "    map_score = calculate_mAP(outputs[:, -30:], gt_labels[:, -30:])\n",
    "    if map_score[0] > best_score:\n",
    "        best_score = map_score[0]\n",
    "        best_epoch = i\n",
    "\n",
    "print(best_score, best_epoch)"
   ]
  },
  {
   "cell_type": "code",
   "execution_count": 85,
   "metadata": {},
   "outputs": [
    {
     "data": {
      "text/plain": [
       "(5000, 30)"
      ]
     },
     "execution_count": 85,
     "metadata": {},
     "output_type": "execute_result"
    }
   ],
   "source": [
    "outputs[:,selected_indexes].shape"
   ]
  },
  {
   "cell_type": "markdown",
   "metadata": {},
   "source": [
    "## score of group3 in bce all  0.5754014458097789 80"
   ]
  },
  {
   "cell_type": "code",
   "execution_count": 35,
   "metadata": {},
   "outputs": [
    {
     "data": {
      "text/plain": [
       "(5000, 30)"
      ]
     },
     "execution_count": 35,
     "metadata": {},
     "output_type": "execute_result"
    }
   ],
   "source": [
    "outputs[:,selected_indexes].shape"
   ]
  },
  {
   "cell_type": "code",
   "execution_count": 78,
   "metadata": {},
   "outputs": [
    {
     "name": "stdout",
     "output_type": "stream",
     "text": [
      "head mAP: 0.5328\n",
      "mid mAP: 0.6091\n",
      "tail mAP: 0.5618\n",
      "total mAP: 0.5733\n"
     ]
    }
   ],
   "source": [
    "class_split = mmcv.load(\"appendix/coco/longtail2017/class_split.pkl\")\n",
    "\n",
    "outputs, gt_labels = get_gt_pred(f\"work_dirs/LT_coco_resnet50_pfc_DB_classaware_DBloss/gt_and_results_e8.pkl\")\n",
    "\n",
    "head_score = calculate_mAP(outputs[:, list(class_split[\"head\"])], gt_labels[:, list(class_split[\"head\"])])[0]\n",
    "mid_score = calculate_mAP(outputs[:, list(class_split[\"middle\"])], gt_labels[:, list(class_split[\"middle\"])])[0]\n",
    "tail_score = calculate_mAP(outputs[:, list(class_split[\"tail\"])], gt_labels[:, list(class_split[\"tail\"])])[0]\n",
    "\n",
    "\n",
    "# head_score = calculate_mAP(outputs[:, :22], gt_labels[:, :22])[0]\n",
    "# mid_score = calculate_mAP(outputs[:, 22:55], gt_labels[:, 22:55])[0]\n",
    "# tail_score = calculate_mAP(outputs[:, 55:], gt_labels[:, 55:])[0]\n",
    "total_score = calculate_mAP(outputs, gt_labels)[0]\n",
    "\n",
    "print(f\"head mAP: {head_score:.4f}\")\n",
    "print(f\"mid mAP: {mid_score:.4f}\")\n",
    "print(f\"tail mAP: {tail_score:.4f}\")\n",
    "print(f\"total mAP: {total_score:.4f}\")\n"
   ]
  },
  {
   "cell_type": "code",
   "execution_count": 79,
   "metadata": {},
   "outputs": [
    {
     "data": {
      "text/plain": [
       "array([2693,  149,  535,  159,   97,  189,  157,  250,  121,  191,   86,\n",
       "         69,   37,  235,  125,  184,  177,  128,   65,   87,   89,   49,\n",
       "         85,  101,  228,  174,  292,  145,  105,   84,  120,   49,  169,\n",
       "         91,   97,  100,  127,  149,  167,  379,  110,  390,  155,  181,\n",
       "        153,  314,  103,   76,   98,   85,   71,   81,   51,  153,   62,\n",
       "        124,  580,  195,  172,  149,  501,  149,  207,  183,   88,  145,\n",
       "        106,  214,   54,  115,    8,  187,  101,  230,  204,  137,   28,\n",
       "         94,    9,   34])"
      ]
     },
     "execution_count": 79,
     "metadata": {},
     "output_type": "execute_result"
    }
   ],
   "source": [
    "gt_labels.sum(axis=0)"
   ]
  },
  {
   "cell_type": "code",
   "execution_count": 81,
   "metadata": {},
   "outputs": [
    {
     "data": {
      "text/plain": [
       "array([2693,  149,  535,  159,   97,  189,  157,  250,  121,  191,   86,\n",
       "         69,   37,  235,  125,  184,  177,  128,   65,   87,   89,   49,\n",
       "         85,  101,  228,  174,  292,  145,  105,   84,  120,   49,  169,\n",
       "         91,   97,  100,  127,  149,  167,  379,  110,  390,  155,  181,\n",
       "        153,  314,  103,   76,   98,   85,   71,   81,   51,  153,   62,\n",
       "        124,  580,  195,  172,  149,  501,  149,  207,  183,   88,  145,\n",
       "        106,  214,   54,  115,    8,  187,  101,  230,  204,  137,   28,\n",
       "         94,    9,   34])"
      ]
     },
     "execution_count": 81,
     "metadata": {},
     "output_type": "execute_result"
    }
   ],
   "source": [
    "import pandas as pd\n",
    "df = pd.read_csv(\"/home/mark/Desktop/工研院/multi-label_classification/data/coco/test_data.csv\", index_col=0)\n",
    "np.array(df.sum(axis=0))"
   ]
  },
  {
   "cell_type": "code",
   "execution_count": 102,
   "metadata": {},
   "outputs": [
    {
     "data": {
      "text/plain": [
       "Index(['person', 'bicycle', 'car', 'motorcycle', 'airplane', 'bus', 'train',\n",
       "       'truck', 'boat', 'traffic light', 'fire hydrant', 'stop sign',\n",
       "       'parking meter', 'bench', 'bird', 'cat', 'dog', 'horse', 'sheep', 'cow',\n",
       "       'elephant', 'bear', 'zebra', 'giraffe', 'backpack', 'umbrella',\n",
       "       'handbag', 'tie', 'suitcase', 'frisbee', 'skis', 'snowboard',\n",
       "       'sports ball', 'kite', 'baseball bat', 'baseball glove', 'skateboard',\n",
       "       'surfboard', 'tennis racket', 'bottle', 'wine glass', 'cup', 'fork',\n",
       "       'knife', 'spoon', 'bowl', 'banana', 'apple', 'sandwich', 'orange',\n",
       "       'broccoli', 'carrot', 'hot dog', 'pizza', 'donut', 'cake', 'chair',\n",
       "       'couch', 'potted plant', 'bed', 'dining table', 'toilet', 'tv',\n",
       "       'laptop', 'mouse', 'remote', 'keyboard', 'cell phone', 'microwave',\n",
       "       'oven', 'toaster', 'sink', 'refrigerator', 'book', 'clock', 'vase',\n",
       "       'scissors', 'teddy bear', 'hair drier', 'toothbrush'],\n",
       "      dtype='object')"
      ]
     },
     "execution_count": 102,
     "metadata": {},
     "output_type": "execute_result"
    }
   ],
   "source": [
    "df.columns"
   ]
  },
  {
   "cell_type": "code",
   "execution_count": 105,
   "metadata": {},
   "outputs": [
    {
     "name": "stdout",
     "output_type": "stream",
     "text": [
      "Target indexes: [0, 60, 56, 41, 39, 45, 73, 2, 71, 43, 62]\n"
     ]
    }
   ],
   "source": [
    "# Full COCO class list\n",
    "coco_classes = \"person,bicycle,car,motorcycle,airplane,bus,train,truck,boat,traffic light,fire hydrant,stop sign,parking meter,bench,bird,cat,dog,horse,sheep,cow,elephant,bear,zebra,giraffe,backpack,umbrella,handbag,tie,suitcase,frisbee,skis,snowboard,sports ball,kite,baseball bat,baseball glove,skateboard,surfboard,tennis racket,bottle,wine glass,cup,fork,knife,spoon,bowl,banana,apple,sandwich,orange,broccoli,carrot,hot dog,pizza,donut,cake,chair,couch,potted plant,bed,dining table,toilet,tv,laptop,mouse,remote,keyboard,cell phone,microwave,oven,toaster,sink,refrigerator,book,clock,vase,scissors,teddy bear,hair drier,toothbrush\".split(\",\")\n",
    "\n",
    "# Target list to find indexes for\n",
    "target_items = [\n",
    "    \"person\", \"dining table\", \"chair\", \"cup\", \"bottle\",\n",
    "    \"bowl\", \"book\", \"car\", \"sink\", \"knife\", \"tv\"\n",
    "]\n",
    "\n",
    "# Normalize function: lowercase and replace underscores with spaces\n",
    "def normalize(label):\n",
    "    return label.strip().lower().replace(\"_\", \" \")\n",
    "\n",
    "# Build normalized list\n",
    "normalized_coco = [normalize(label) for label in coco_classes]\n",
    "normalized_targets = [normalize(label) for label in target_items]\n",
    "\n",
    "# Get indexes\n",
    "indexes = [normalized_coco.index(label) for label in normalized_targets]\n",
    "\n",
    "# Output result\n",
    "print(\"Target indexes:\", indexes)\n"
   ]
  },
  {
   "cell_type": "code",
   "execution_count": 106,
   "metadata": {},
   "outputs": [
    {
     "data": {
      "text/plain": [
       "array(['person', 'dining table', 'chair', 'cup', 'bottle', 'bowl', 'book',\n",
       "       'car', 'sink', 'knife', 'tv'], dtype=object)"
      ]
     },
     "execution_count": 106,
     "metadata": {},
     "output_type": "execute_result"
    }
   ],
   "source": [
    "np.array(df.columns)[[0, 60, 56, 41, 39, 45, 73, 2, 71, 43, 62]]"
   ]
  },
  {
   "cell_type": "code",
   "execution_count": null,
   "metadata": {},
   "outputs": [],
   "source": [
    "\"all\": [0.5704, 0.636, 0.5447, 0.5894],"
   ]
  },
  {
   "cell_type": "code",
   "execution_count": 55,
   "metadata": {},
   "outputs": [
    {
     "data": {
      "text/plain": [
       "0.6065970589127846"
      ]
     },
     "execution_count": 55,
     "metadata": {},
     "output_type": "execute_result"
    }
   ],
   "source": [
    "calculate_mAP(outputs[:, :11], gt_labels[:, :11])[0]"
   ]
  },
  {
   "cell_type": "code",
   "execution_count": 61,
   "metadata": {},
   "outputs": [],
   "source": [
    "utputs, gt_labels = get_gt_pred(f\"work_dirs/LT_coco_resnet50_pfc_DB_uniform_bce_all/gt_and_results_e{i}.pkl\")"
   ]
  },
  {
   "cell_type": "code",
   "execution_count": 63,
   "metadata": {},
   "outputs": [
    {
     "data": {
      "text/plain": [
       "array([2693,  149,  535,  159,   97,  189,  157,  250,  121,  191,   86,\n",
       "         69,   37,  235,  125,  184,  177,  128,   65,   87,   89,   49,\n",
       "         85,  101,  228,  174,  292,  145,  105,   84,  120,   49,  169,\n",
       "         91,   97,  100,  127,  149,  167,  379,  110,  390,  155,  181,\n",
       "        153,  314,  103,   76,   98,   85,   71,   81,   51,  153,   62,\n",
       "        124,  580,  195,  172,  149,  501,  149,  207,  183,   88,  145,\n",
       "        106,  214,   54,  115,    8,  187,  101,  230,  204,  137,   28,\n",
       "         94,    9,   34])"
      ]
     },
     "execution_count": 63,
     "metadata": {},
     "output_type": "execute_result"
    }
   ],
   "source": [
    "gt_labels.sum(axis=0)"
   ]
  },
  {
   "cell_type": "code",
   "execution_count": 74,
   "metadata": {},
   "outputs": [
    {
     "data": {
      "text/plain": [
       "array([2693,  149,  535,  159,   97,  189,  157,  250,  121,  191,   86,\n",
       "         69,   37,  235,  125,  184,  177,  128,   65,   87,   89,   49,\n",
       "         85,  101,  228,  174,  292,  145,  105,   84,  120,   49,  169,\n",
       "         91,   97,  100,  127,  149,  167,  379,  110,  390,  155,  181,\n",
       "        153,  314,  103,   76,   98,   85,   71,   81,   51,  153,   62,\n",
       "        124,  580,  195,  172,  149,  501,  149,  207,  183,   88,  145,\n",
       "        106,  214,   54,  115,    8,  187,  101,  230,  204,  137,   28,\n",
       "         94,    9,   34])"
      ]
     },
     "execution_count": 74,
     "metadata": {},
     "output_type": "execute_result"
    }
   ],
   "source": [
    "result = mmcv.load(\"work_dirs/LT_coco_resnet50_pfc_DB/gt_and_results_e10.pkl\")\n",
    "np.array(result[0]['gt_labels']).sum(axis=0)"
   ]
  },
  {
   "cell_type": "code",
   "execution_count": null,
   "metadata": {},
   "outputs": [],
   "source": []
  }
 ],
 "metadata": {
  "kernelspec": {
   "display_name": ".venv",
   "language": "python",
   "name": "python3"
  },
  "language_info": {
   "codemirror_mode": {
    "name": "ipython",
    "version": 3
   },
   "file_extension": ".py",
   "mimetype": "text/x-python",
   "name": "python",
   "nbconvert_exporter": "python",
   "pygments_lexer": "ipython3",
   "version": "3.8.18"
  }
 },
 "nbformat": 4,
 "nbformat_minor": 2
}
