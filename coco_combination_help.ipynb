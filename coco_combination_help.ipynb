{
 "cells": [
  {
   "cell_type": "code",
   "execution_count": 2,
   "metadata": {},
   "outputs": [
    {
     "name": "stderr",
     "output_type": "stream",
     "text": [
      "/home/mark/Desktop/工研院/DistributionBalancedLoss/.venv/lib/python3.8/site-packages/tqdm/auto.py:21: TqdmWarning: IProgress not found. Please update jupyter and ipywidgets. See https://ipywidgets.readthedocs.io/en/stable/user_install.html\n",
      "  from .autonotebook import tqdm as notebook_tqdm\n",
      "/home/mark/Desktop/工研院/DistributionBalancedLoss/.venv/lib/python3.8/site-packages/mmcv/__init__.py:20: UserWarning: On January 1, 2023, MMCV will release v2.0.0, in which it will remove components related to the training process and add a data transformation module. In addition, it will rename the package names mmcv to mmcv-lite and mmcv-full to mmcv. See https://github.com/open-mmlab/mmcv/blob/master/docs/en/compatibility.md for more details.\n",
      "  warnings.warn(\n"
     ]
    }
   ],
   "source": [
    "import re\n",
    "import mmcv\n",
    "from sklearn.metrics import average_precision_score\n",
    "import numpy as np\n",
    "from typing import Tuple\n",
    "\n",
    "def get_epoch(file_path: str):\n",
    "# Read the file\n",
    "  with open(file_path, \"r\") as file:\n",
    "      content = file.read()\n",
    "\n",
    "  # Use regex to extract the number after \"mAP:\"\n",
    "  match = re.search(r\"mAP:\\s*(\\d+)\", content)\n",
    "  if match:\n",
    "      epoch = int(match.group(1))\n",
    "      return epoch\n",
    "  else:\n",
    "      print(\"Epoch not found.\")\n",
    "\n",
    "def get_gt_pred(file_path: str):\n",
    "    output_and_gt = mmcv.load(file_path)\n",
    "    return np.array(output_and_gt[0]['outputs']), np.array(output_and_gt[0]['gt_labels'])\n",
    "# import numpy as np\n",
    "# outputs_result = None\n",
    "# gt_labels_result = None\n",
    "# for i in range(1,5):\n",
    "#     file_path = f\"coco/coco_uniform_bce_group{i}.txt\"\n",
    "#     epoch = get_epoch(file_path)\n",
    "#     outputs, gt_labels = get_gt_pred(f\"work_dirs/LT_coco_resnet50_pfc_DB_uniform_bce_group{i}/gt_and_results_e{epoch}.pkl\")\n",
    "#     if outputs_result is None:\n",
    "#         outputs_result = outputs\n",
    "#     else:\n",
    "#         outputs_result = np.hstack((np.array(outputs_result), np.array(outputs)))\n",
    "#     if gt_labels_result is None:\n",
    "#         gt_labels_result = gt_labels\n",
    "#     else:\n",
    "#         gt_labels_result = np.hstack((np.array(gt_labels_result), np.array(gt_labels)))\n",
    "    \n",
    "\n",
    "def calculate_mAP(all_preds: np.ndarray, all_labels: np.ndarray) -> Tuple[np.float64, list]:\n",
    "    label_cnt = len(all_labels[0])\n",
    "    mAP = 0\n",
    "    mAP_per_label = []\n",
    "    # print(label_cnt)\n",
    "    all_labels = np.array(all_labels)\n",
    "    all_preds = np.array(all_preds)\n",
    "    for i in range(label_cnt):\n",
    "        # print(np.sum(all_labels[:, i]) > 0)\n",
    "        AP = average_precision_score(all_labels[:, i], all_preds[:, i])\n",
    "        mAP_per_label.append(AP)\n",
    "        mAP += AP\n",
    "\n",
    "    mAP /= label_cnt\n",
    "    APs = average_precision_score(all_labels, all_preds, average=None) \n",
    "    mAP = APs.mean()\n",
    "\n",
    "    return mAP, mAP_per_label\n",
    "def get_3_split_map(outputs_result, gt_labels_result):\n",
    "    map_score1 =  calculate_mAP( np.array(outputs_result)[:, :22], np.array(gt_labels_result)[:, :22])\n",
    "    # print(f\"head mAP: {map_score1[0]:.4f}\")\n",
    "    # print(np.array(map_score[1]))\n",
    "    map_score2 =  calculate_mAP( np.array(outputs_result)[:, 22:55], np.array(gt_labels_result)[:, 22:55])\n",
    "    # print(f\"mid mAP: {map_score2[0]:.4f}\")\n",
    "    # print(np.array(map_score[1]))\n",
    "    map_score3 =  calculate_mAP( np.array(outputs_result)[:, 55:], np.array(gt_labels_result)[:, 55:])\n",
    "\n",
    "    total = calculate_mAP( np.array(outputs_result), np.array(gt_labels_result))\n",
    "    # print(f\"tail mAP: {map_score3[0]:.4f}\")\n",
    "    print([round(map_score1[0], 4), round(map_score2[0], 4), round(map_score3[0], 4), round(total[0], 4)])\n",
    "    # print(np.array(map_score[1]))\n",
    "\n",
    "\n",
    "# get_3_split_map(outputs_result, gt_labels_result)"
   ]
  },
  {
   "cell_type": "code",
   "execution_count": 15,
   "metadata": {},
   "outputs": [],
   "source": [
    "import ast\n",
    "import pandas as pd\n",
    "original_position = pd.read_csv(\"/home/mark/Desktop/工研院/multi-label_classification/data/coco/group2_original_positions_per_step.csv\")\n",
    "original_position['original_positions'] = original_position['original_positions'].apply(ast.literal_eval)\n",
    "def get_original_index(step):\n",
    "    if step in original_position['step'].values:\n",
    "        return original_position.loc[original_position['step'] == step, 'original_positions'].values[0]\n",
    "    else:\n",
    "        raise ValueError(f\"Step {step} not found.\")"
   ]
  },
  {
   "cell_type": "code",
   "execution_count": 18,
   "metadata": {},
   "outputs": [
    {
     "name": "stderr",
     "output_type": "stream",
     "text": [
      "100%|██████████| 7/7 [00:36<00:00,  5.19s/it]\n"
     ]
    }
   ],
   "source": [
    "from tqdm import tqdm\n",
    "best_score_list = []\n",
    "range_left, range_right = 11, 50\n",
    "for ri in tqdm(range(4, 11)):\n",
    "    work_dir_str = f\"LT_coco_resnet50_pfc_DB_uniform_bce_35_6_CVIR_group2_step{ri}\"\n",
    "    best_score = 0\n",
    "    best_epoch = 0\n",
    "    epoch_list = []\n",
    "    for i in range(1,81):\n",
    "        # epoch = get_epoch(file_path)\n",
    "        outputs, gt_labels = get_gt_pred(f\"work_dirs/{work_dir_str}/gt_and_results_e{i}.pkl\")\n",
    "        epoch_list.append((outputs, gt_labels))\n",
    "        map_score = calculate_mAP(outputs[:, get_original_index(ri)], gt_labels[:,get_original_index(ri) ])\n",
    "        if map_score[0] > best_score:\n",
    "            best_score = map_score[0]\n",
    "            best_epoch = i\n",
    "    best_score_list.append((best_score, best_epoch))\n",
    "\n"
   ]
  },
  {
   "cell_type": "code",
   "execution_count": 19,
   "metadata": {},
   "outputs": [
    {
     "data": {
      "text/plain": [
       "[(0.6047756157989091, 37),\n",
       " (0.6038071354207358, 42),\n",
       " (0.6017351995485056, 53),\n",
       " (0.5995358795664304, 50),\n",
       " (0.5999955079244591, 53),\n",
       " (0.6008709706791012, 78),\n",
       " (0.6008362300256025, 56)]"
      ]
     },
     "execution_count": 19,
     "metadata": {},
     "output_type": "execute_result"
    }
   ],
   "source": [
    "best_score_list"
   ]
  },
  {
   "cell_type": "code",
   "execution_count": 18,
   "metadata": {},
   "outputs": [
    {
     "data": {
      "text/plain": [
       "[0.6229675280352791]"
      ]
     },
     "execution_count": 18,
     "metadata": {},
     "output_type": "execute_result"
    }
   ],
   "source": [
    "best_score_list"
   ]
  },
  {
   "cell_type": "code",
   "execution_count": 24,
   "metadata": {},
   "outputs": [
    {
     "data": {
      "text/plain": [
       "28"
      ]
     },
     "execution_count": 24,
     "metadata": {},
     "output_type": "execute_result"
    }
   ],
   "source": [
    "best_epoch"
   ]
  },
  {
   "cell_type": "code",
   "execution_count": 112,
   "metadata": {},
   "outputs": [
    {
     "data": {
      "text/plain": [
       "(5000, 39)"
      ]
     },
     "execution_count": 112,
     "metadata": {},
     "output_type": "execute_result"
    }
   ],
   "source": [
    "outputs[:,get_original_index(10)].shape"
   ]
  },
  {
   "cell_type": "code",
   "execution_count": 111,
   "metadata": {},
   "outputs": [
    {
     "data": {
      "text/plain": [
       "[(0.6047600344875798, 36),\n",
       " (0.6058464672269758, 32),\n",
       " (0.6017389176220953, 38),\n",
       " (0.6045177137242295, 36),\n",
       " (0.6045391143791078, 50),\n",
       " (0.6047300344764673, 42),\n",
       " (0.6023692674625177, 48),\n",
       " (0.6033794152990145, 53),\n",
       " (0.6009239422498157, 52),\n",
       " (0.6019962043015692, 63)]"
      ]
     },
     "execution_count": 111,
     "metadata": {},
     "output_type": "execute_result"
    }
   ],
   "source": [
    "best_score_list"
   ]
  },
  {
   "cell_type": "code",
   "execution_count": 57,
   "metadata": {},
   "outputs": [
    {
     "data": {
      "text/plain": [
       "[(0.6244537242756895, 9),\n",
       " (0.631269683207284, 10),\n",
       " (0.6272452772954641, 15),\n",
       " (0.6298287881205433, 13),\n",
       " (0.6319336448824721, 16),\n",
       " (0.6304857578304011, 15),\n",
       " (0.6267199275707046, 17),\n",
       " (0.6254485757250204, 19),\n",
       " (0.6228322864000027, 20),\n",
       " (0.6241215528569193, 21),\n",
       " (0.6213801213078801, 29),\n",
       " (0.6235290169708279, 22),\n",
       " (0.6232340825305664, 28),\n",
       " (0.6228016584622147, 26),\n",
       " (0.6218446863189525, 35),\n",
       " (0.6229577895391062, 32),\n",
       " (0.6228398396331677, 30)]"
      ]
     },
     "execution_count": 57,
     "metadata": {},
     "output_type": "execute_result"
    }
   ],
   "source": [
    "best_score_list"
   ]
  },
  {
   "cell_type": "code",
   "execution_count": 27,
   "metadata": {},
   "outputs": [],
   "source": [
    "last = outputs[:,range_left: 11 ] "
   ]
  },
  {
   "cell_type": "code",
   "execution_count": 28,
   "metadata": {},
   "outputs": [
    {
     "data": {
      "text/plain": [
       "array([[ True,  True,  True, ...,  True,  True,  True],\n",
       "       [ True,  True,  True, ...,  True,  True,  True],\n",
       "       [ True,  True,  True, ...,  True,  True,  True],\n",
       "       ...,\n",
       "       [ True,  True,  True, ...,  True,  True,  True],\n",
       "       [ True,  True,  True, ...,  True,  True,  True],\n",
       "       [ True,  True,  True, ...,  True,  True,  True]])"
      ]
     },
     "execution_count": 28,
     "metadata": {},
     "output_type": "execute_result"
    }
   ],
   "source": [
    "(outputs[:, -30:] == last).every()"
   ]
  },
  {
   "cell_type": "code",
   "execution_count": 21,
   "metadata": {},
   "outputs": [
    {
     "data": {
      "text/plain": [
       "[(0.6302228720370208, 68),\n",
       " (0.6288683594595657, 71),\n",
       " (0.6227333914497694, 58),\n",
       " (0.6216182740062414, 64),\n",
       " (0.6267958467001103, 74),\n",
       " (0.6269370829145641, 72),\n",
       " (0.6111917834746652, 77),\n",
       " (0.6110707802614683, 78),\n",
       " (0.6156081032266659, 68),\n",
       " (0.5972553884034454, 75),\n",
       " (0.586243483137789, 73),\n",
       " (0.5809931827375383, 77)]"
      ]
     },
     "execution_count": 21,
     "metadata": {},
     "output_type": "execute_result"
    }
   ],
   "source": [
    "best_score_list"
   ]
  },
  {
   "cell_type": "code",
   "execution_count": 10,
   "metadata": {},
   "outputs": [
    {
     "data": {
      "text/plain": [
       "[(0.6244537242756895, 9),\n",
       " (0.631269683207284, 10),\n",
       " (0.6272452772954641, 15),\n",
       " (0.6298287881205433, 13),\n",
       " (0.6319336448824721, 16),\n",
       " (0.6304857578304011, 15),\n",
       " (0.6267199275707046, 17),\n",
       " (0.6254485757250204, 19),\n",
       " (0.6228322864000027, 20),\n",
       " (0.6241215528569193, 21),\n",
       " (0.6213801213078801, 29),\n",
       " (0.6235290169708279, 22),\n",
       " (0.6232340825305664, 28),\n",
       " (0.6228016584622147, 26),\n",
       " (0.6218446863189525, 35),\n",
       " (0.6229577895391062, 32),\n",
       " (0.6228398396331677, 30)]"
      ]
     },
     "execution_count": 10,
     "metadata": {},
     "output_type": "execute_result"
    }
   ],
   "source": [
    "best_score_list"
   ]
  },
  {
   "cell_type": "markdown",
   "metadata": {},
   "source": [
    "## best group1 index 5 (0.6319336448824721, 16)"
   ]
  },
  {
   "cell_type": "code",
   "execution_count": 83,
   "metadata": {},
   "outputs": [],
   "source": [
    "selected_indexes = [\n",
    "    28,  # suitcase\n",
    "    34,  # baseball glove\n",
    "    78,  # teddy bear\n",
    "    7,   # boat\n",
    "    38,  # tennis racket\n",
    "    14,  # bird\n",
    "    6,   # train\n",
    "    17,  # horse\n",
    "    35,  # skateboard\n",
    "    54,  # donut\n",
    "    76,  # scissors\n",
    "    51,  # hot dog\n",
    "    12,  # stop sign\n",
    "    30,  # skis\n",
    "    10,  # fire hydrant\n",
    "    29,  # frisbee\n",
    "    79,  # toothbrush\n",
    "    19,  # cow\n",
    "    33,  # kite\n",
    "    36,  # surfboard\n",
    "    4,   # airplane\n",
    "    67,  # toaster\n",
    "    13,  # parking meter\n",
    "    20,  # elephant\n",
    "    31,  # snowboard\n",
    "    18,  # sheep\n",
    "    22,  # zebra\n",
    "    23,  # giraffe\n",
    "    21,  # bear\n",
    "    77   # hair drier\n",
    "]\n",
    "\n",
    "# selected_indexes = [\n",
    "#     0,   # person\n",
    "#     57,  # dining table\n",
    "#     56,  # chair\n",
    "#     41,  # cup\n",
    "#     39,  # bottle\n",
    "#     44,  # bowl\n",
    "#     70,  # book\n",
    "#     2,   # car\n",
    "#     68,  # sink\n",
    "#     43,  # knife\n",
    "#     60   # tv\n",
    "# ]\n"
   ]
  },
  {
   "cell_type": "code",
   "execution_count": 13,
   "metadata": {},
   "outputs": [
    {
     "name": "stdout",
     "output_type": "stream",
     "text": [
      "0.5967825588474797 16\n"
     ]
    }
   ],
   "source": [
    "best_epoch = 0\n",
    "best_score = 0\n",
    "\n",
    "def sigmoid(x):\n",
    "    return 1 / (1 + np.exp(-x))\n",
    "def calculate_mAP(all_preds: np.ndarray, all_labels: np.ndarray) -> Tuple[np.float64, list]:\n",
    "    all_preds = sigmoid(all_preds)\n",
    "    label_cnt = len(all_labels[0])\n",
    "    mAP = 0\n",
    "    mAP_per_label = []\n",
    "    # print(label_cnt)\n",
    "    all_labels = np.array(all_labels)\n",
    "    all_preds = np.array(all_preds)\n",
    "    for i in range(label_cnt):\n",
    "        # print(np.sum(all_labels[:, i]) > 0)\n",
    "        AP = average_precision_score(all_labels[:, i], all_preds[:, i])\n",
    "        mAP_per_label.append(AP)\n",
    "        mAP += AP\n",
    "\n",
    "    mAP /= label_cnt\n",
    "    APs = average_precision_score(all_labels, all_preds, average=None) \n",
    "    mAP = APs.mean()\n",
    "\n",
    "    return mAP, mAP_per_label\n",
    "for i in range(16,17):\n",
    "    # epoch = get_epoch(file_path)\n",
    "    # outputs, gt_labels = get_gt_pred(f\"work_dirs/LT_coco_resnet50_pfc_DB_uniform_bce_35_6_group1_l0_r5/gt_and_results_e{i}.pkl\")\n",
    "    outputs, gt_labels = get_gt_pred(f\"work_dirs/LT_coco_resnet50_pfc_DB_classaware_bce/gt_and_results_e6.pkl\")\n",
    "    # epoch_list.append((outputs, gt_labels))\n",
    "    map_score = calculate_mAP(outputs[:, :], gt_labels[:, :])\n",
    "    if map_score[0] > best_score:\n",
    "        best_score = map_score[0]\n",
    "        best_epoch = i\n",
    "\n",
    "print(best_score, best_epoch)"
   ]
  },
  {
   "cell_type": "code",
   "execution_count": 16,
   "metadata": {},
   "outputs": [
    {
     "data": {
      "text/plain": [
       "-9.805365"
      ]
     },
     "execution_count": 16,
     "metadata": {},
     "output_type": "execute_result"
    }
   ],
   "source": [
    "outputs.min()"
   ]
  },
  {
   "cell_type": "code",
   "execution_count": 85,
   "metadata": {},
   "outputs": [
    {
     "data": {
      "text/plain": [
       "(5000, 30)"
      ]
     },
     "execution_count": 85,
     "metadata": {},
     "output_type": "execute_result"
    }
   ],
   "source": [
    "outputs[:,selected_indexes].shape"
   ]
  },
  {
   "cell_type": "markdown",
   "metadata": {},
   "source": [
    "## score of group3 in bce all  0.5754014458097789 80"
   ]
  },
  {
   "cell_type": "code",
   "execution_count": 35,
   "metadata": {},
   "outputs": [
    {
     "data": {
      "text/plain": [
       "(5000, 30)"
      ]
     },
     "execution_count": 35,
     "metadata": {},
     "output_type": "execute_result"
    }
   ],
   "source": [
    "outputs[:,selected_indexes].shape"
   ]
  },
  {
   "cell_type": "code",
   "execution_count": 78,
   "metadata": {},
   "outputs": [
    {
     "name": "stdout",
     "output_type": "stream",
     "text": [
      "head mAP: 0.5328\n",
      "mid mAP: 0.6091\n",
      "tail mAP: 0.5618\n",
      "total mAP: 0.5733\n"
     ]
    }
   ],
   "source": [
    "class_split = mmcv.load(\"appendix/coco/longtail2017/class_split.pkl\")\n",
    "\n",
    "outputs, gt_labels = get_gt_pred(f\"work_dirs/LT_coco_resnet50_pfc_DB_classaware_DBloss/gt_and_results_e8.pkl\")\n",
    "\n",
    "head_score = calculate_mAP(outputs[:, list(class_split[\"head\"])], gt_labels[:, list(class_split[\"head\"])])[0]\n",
    "mid_score = calculate_mAP(outputs[:, list(class_split[\"middle\"])], gt_labels[:, list(class_split[\"middle\"])])[0]\n",
    "tail_score = calculate_mAP(outputs[:, list(class_split[\"tail\"])], gt_labels[:, list(class_split[\"tail\"])])[0]\n",
    "\n",
    "\n",
    "# head_score = calculate_mAP(outputs[:, :22], gt_labels[:, :22])[0]\n",
    "# mid_score = calculate_mAP(outputs[:, 22:55], gt_labels[:, 22:55])[0]\n",
    "# tail_score = calculate_mAP(outputs[:, 55:], gt_labels[:, 55:])[0]\n",
    "total_score = calculate_mAP(outputs, gt_labels)[0]\n",
    "\n",
    "print(f\"head mAP: {head_score:.4f}\")\n",
    "print(f\"mid mAP: {mid_score:.4f}\")\n",
    "print(f\"tail mAP: {tail_score:.4f}\")\n",
    "print(f\"total mAP: {total_score:.4f}\")\n"
   ]
  },
  {
   "cell_type": "code",
   "execution_count": 79,
   "metadata": {},
   "outputs": [
    {
     "data": {
      "text/plain": [
       "array([2693,  149,  535,  159,   97,  189,  157,  250,  121,  191,   86,\n",
       "         69,   37,  235,  125,  184,  177,  128,   65,   87,   89,   49,\n",
       "         85,  101,  228,  174,  292,  145,  105,   84,  120,   49,  169,\n",
       "         91,   97,  100,  127,  149,  167,  379,  110,  390,  155,  181,\n",
       "        153,  314,  103,   76,   98,   85,   71,   81,   51,  153,   62,\n",
       "        124,  580,  195,  172,  149,  501,  149,  207,  183,   88,  145,\n",
       "        106,  214,   54,  115,    8,  187,  101,  230,  204,  137,   28,\n",
       "         94,    9,   34])"
      ]
     },
     "execution_count": 79,
     "metadata": {},
     "output_type": "execute_result"
    }
   ],
   "source": [
    "gt_labels.sum(axis=0)"
   ]
  },
  {
   "cell_type": "code",
   "execution_count": 81,
   "metadata": {},
   "outputs": [
    {
     "data": {
      "text/plain": [
       "array([2693,  149,  535,  159,   97,  189,  157,  250,  121,  191,   86,\n",
       "         69,   37,  235,  125,  184,  177,  128,   65,   87,   89,   49,\n",
       "         85,  101,  228,  174,  292,  145,  105,   84,  120,   49,  169,\n",
       "         91,   97,  100,  127,  149,  167,  379,  110,  390,  155,  181,\n",
       "        153,  314,  103,   76,   98,   85,   71,   81,   51,  153,   62,\n",
       "        124,  580,  195,  172,  149,  501,  149,  207,  183,   88,  145,\n",
       "        106,  214,   54,  115,    8,  187,  101,  230,  204,  137,   28,\n",
       "         94,    9,   34])"
      ]
     },
     "execution_count": 81,
     "metadata": {},
     "output_type": "execute_result"
    }
   ],
   "source": [
    "import pandas as pd\n",
    "df = pd.read_csv(\"/home/mark/Desktop/工研院/multi-label_classification/data/coco/test_data.csv\", index_col=0)\n",
    "np.array(df.sum(axis=0))"
   ]
  },
  {
   "cell_type": "code",
   "execution_count": 102,
   "metadata": {},
   "outputs": [
    {
     "data": {
      "text/plain": [
       "Index(['person', 'bicycle', 'car', 'motorcycle', 'airplane', 'bus', 'train',\n",
       "       'truck', 'boat', 'traffic light', 'fire hydrant', 'stop sign',\n",
       "       'parking meter', 'bench', 'bird', 'cat', 'dog', 'horse', 'sheep', 'cow',\n",
       "       'elephant', 'bear', 'zebra', 'giraffe', 'backpack', 'umbrella',\n",
       "       'handbag', 'tie', 'suitcase', 'frisbee', 'skis', 'snowboard',\n",
       "       'sports ball', 'kite', 'baseball bat', 'baseball glove', 'skateboard',\n",
       "       'surfboard', 'tennis racket', 'bottle', 'wine glass', 'cup', 'fork',\n",
       "       'knife', 'spoon', 'bowl', 'banana', 'apple', 'sandwich', 'orange',\n",
       "       'broccoli', 'carrot', 'hot dog', 'pizza', 'donut', 'cake', 'chair',\n",
       "       'couch', 'potted plant', 'bed', 'dining table', 'toilet', 'tv',\n",
       "       'laptop', 'mouse', 'remote', 'keyboard', 'cell phone', 'microwave',\n",
       "       'oven', 'toaster', 'sink', 'refrigerator', 'book', 'clock', 'vase',\n",
       "       'scissors', 'teddy bear', 'hair drier', 'toothbrush'],\n",
       "      dtype='object')"
      ]
     },
     "execution_count": 102,
     "metadata": {},
     "output_type": "execute_result"
    }
   ],
   "source": [
    "df.columns"
   ]
  },
  {
   "cell_type": "code",
   "execution_count": 105,
   "metadata": {},
   "outputs": [
    {
     "name": "stdout",
     "output_type": "stream",
     "text": [
      "Target indexes: [0, 60, 56, 41, 39, 45, 73, 2, 71, 43, 62]\n"
     ]
    }
   ],
   "source": [
    "# Full COCO class list\n",
    "coco_classes = \"person,bicycle,car,motorcycle,airplane,bus,train,truck,boat,traffic light,fire hydrant,stop sign,parking meter,bench,bird,cat,dog,horse,sheep,cow,elephant,bear,zebra,giraffe,backpack,umbrella,handbag,tie,suitcase,frisbee,skis,snowboard,sports ball,kite,baseball bat,baseball glove,skateboard,surfboard,tennis racket,bottle,wine glass,cup,fork,knife,spoon,bowl,banana,apple,sandwich,orange,broccoli,carrot,hot dog,pizza,donut,cake,chair,couch,potted plant,bed,dining table,toilet,tv,laptop,mouse,remote,keyboard,cell phone,microwave,oven,toaster,sink,refrigerator,book,clock,vase,scissors,teddy bear,hair drier,toothbrush\".split(\",\")\n",
    "\n",
    "# Target list to find indexes for\n",
    "target_items = [\n",
    "    \"person\", \"dining table\", \"chair\", \"cup\", \"bottle\",\n",
    "    \"bowl\", \"book\", \"car\", \"sink\", \"knife\", \"tv\"\n",
    "]\n",
    "\n",
    "# Normalize function: lowercase and replace underscores with spaces\n",
    "def normalize(label):\n",
    "    return label.strip().lower().replace(\"_\", \" \")\n",
    "\n",
    "# Build normalized list\n",
    "normalized_coco = [normalize(label) for label in coco_classes]\n",
    "normalized_targets = [normalize(label) for label in target_items]\n",
    "\n",
    "# Get indexes\n",
    "indexes = [normalized_coco.index(label) for label in normalized_targets]\n",
    "\n",
    "# Output result\n",
    "print(\"Target indexes:\", indexes)\n"
   ]
  },
  {
   "cell_type": "code",
   "execution_count": 106,
   "metadata": {},
   "outputs": [
    {
     "data": {
      "text/plain": [
       "array(['person', 'dining table', 'chair', 'cup', 'bottle', 'bowl', 'book',\n",
       "       'car', 'sink', 'knife', 'tv'], dtype=object)"
      ]
     },
     "execution_count": 106,
     "metadata": {},
     "output_type": "execute_result"
    }
   ],
   "source": [
    "np.array(df.columns)[[0, 60, 56, 41, 39, 45, 73, 2, 71, 43, 62]]"
   ]
  },
  {
   "cell_type": "code",
   "execution_count": null,
   "metadata": {},
   "outputs": [],
   "source": [
    "\"all\": [0.5704, 0.636, 0.5447, 0.5894],"
   ]
  },
  {
   "cell_type": "code",
   "execution_count": 55,
   "metadata": {},
   "outputs": [
    {
     "data": {
      "text/plain": [
       "0.6065970589127846"
      ]
     },
     "execution_count": 55,
     "metadata": {},
     "output_type": "execute_result"
    }
   ],
   "source": [
    "calculate_mAP(outputs[:, :11], gt_labels[:, :11])[0]"
   ]
  },
  {
   "cell_type": "code",
   "execution_count": 5,
   "metadata": {},
   "outputs": [],
   "source": [
    "outputs, gt_labels = get_gt_pred(f\"work_dirs/LT_coco_resnet50_pfc_DB_uniform_bce_all/gt_and_results_e{1}.pkl\")"
   ]
  },
  {
   "cell_type": "code",
   "execution_count": 7,
   "metadata": {},
   "outputs": [
    {
     "data": {
      "text/plain": [
       "array([[1, 0, 0, ..., 0, 0, 0],\n",
       "       [0, 0, 0, ..., 0, 0, 0],\n",
       "       [1, 0, 0, ..., 0, 0, 0],\n",
       "       ...,\n",
       "       [1, 0, 0, ..., 0, 0, 0],\n",
       "       [1, 0, 0, ..., 0, 0, 0],\n",
       "       [1, 0, 0, ..., 0, 0, 0]], dtype=int32)"
      ]
     },
     "execution_count": 7,
     "metadata": {},
     "output_type": "execute_result"
    }
   ],
   "source": [
    "gt_labels"
   ]
  },
  {
   "cell_type": "code",
   "execution_count": 63,
   "metadata": {},
   "outputs": [
    {
     "data": {
      "text/plain": [
       "array([2693,  149,  535,  159,   97,  189,  157,  250,  121,  191,   86,\n",
       "         69,   37,  235,  125,  184,  177,  128,   65,   87,   89,   49,\n",
       "         85,  101,  228,  174,  292,  145,  105,   84,  120,   49,  169,\n",
       "         91,   97,  100,  127,  149,  167,  379,  110,  390,  155,  181,\n",
       "        153,  314,  103,   76,   98,   85,   71,   81,   51,  153,   62,\n",
       "        124,  580,  195,  172,  149,  501,  149,  207,  183,   88,  145,\n",
       "        106,  214,   54,  115,    8,  187,  101,  230,  204,  137,   28,\n",
       "         94,    9,   34])"
      ]
     },
     "execution_count": 63,
     "metadata": {},
     "output_type": "execute_result"
    }
   ],
   "source": [
    "gt_labels.sum(axis=0)"
   ]
  },
  {
   "cell_type": "code",
   "execution_count": 74,
   "metadata": {},
   "outputs": [
    {
     "data": {
      "text/plain": [
       "array([2693,  149,  535,  159,   97,  189,  157,  250,  121,  191,   86,\n",
       "         69,   37,  235,  125,  184,  177,  128,   65,   87,   89,   49,\n",
       "         85,  101,  228,  174,  292,  145,  105,   84,  120,   49,  169,\n",
       "         91,   97,  100,  127,  149,  167,  379,  110,  390,  155,  181,\n",
       "        153,  314,  103,   76,   98,   85,   71,   81,   51,  153,   62,\n",
       "        124,  580,  195,  172,  149,  501,  149,  207,  183,   88,  145,\n",
       "        106,  214,   54,  115,    8,  187,  101,  230,  204,  137,   28,\n",
       "         94,    9,   34])"
      ]
     },
     "execution_count": 74,
     "metadata": {},
     "output_type": "execute_result"
    }
   ],
   "source": [
    "result = mmcv.load(\"work_dirs/LT_coco_resnet50_pfc_DB/gt_and_results_e10.pkl\")\n",
    "np.array(result[0]['gt_labels']).sum(axis=0)"
   ]
  },
  {
   "cell_type": "code",
   "execution_count": 6,
   "metadata": {},
   "outputs": [
    {
     "name": "stdout",
     "output_type": "stream",
     "text": [
      "head mAP: 0.5772\n",
      "mid mAP: 0.6504\n",
      "tail mAP: 0.6218\n",
      "total mAP: 0.6213\n",
      "[0.5772, 0.6504, 0.6218, 0.6213]\n"
     ]
    }
   ],
   "source": [
    "# head_score = calculate_mAP(outputs[:, list(class_split[\"head\"])], gt_labels[:, list(class_split[\"head\"])])[0]\n",
    "# mid_score = calculate_mAP(outputs[:, list(class_split[\"middle\"])], gt_labels[:, list(class_split[\"middle\"])])[0]\n",
    "# tail_score = calculate_mAP(outputs[:, list(class_split[\"tail\"])], gt_labels[:, list(class_split[\"tail\"])])[0]\n",
    "\n",
    "outputs1, gt_labels1 = get_gt_pred(f\"work_dirs/LT_coco_resnet50_pfc_DB_uniform_bce_35_6_group1_l0_r5/gt_and_results_e16.pkl\")\n",
    "outputs2, gt_labels2 = get_gt_pred(f\"work_dirs/LT_coco_resnet50_pfc_DB_uniform_bce_35_6_group2/gt_and_results_e30.pkl\")\n",
    "outputs3, gt_labels3 = get_gt_pred(f\"work_dirs/LT_coco_resnet50_pfc_DB_uniform_bce_35_6_group3/gt_and_results_e58.pkl\")\n",
    "\n",
    "\n",
    "# outputs1, gt_labels1 = get_gt_pred(f\"work_dirs/LT_coco_resnet50_pfc_DB_uniform_bce_35_6_group1_v1/gt_and_results_e5.pkl\")\n",
    "# outputs2, gt_labels2 = get_gt_pred(f\"work_dirs/LT_coco_resnet50_pfc_DB_uniform_bce_35_6_group2_v1/gt_and_results_e14.pkl\")\n",
    "# outputs3, gt_labels3 = get_gt_pred(f\"work_dirs/LT_coco_resnet50_pfc_DB_uniform_bce_35_6_group3_v1/gt_and_results_e43.pkl\")\n",
    "\n",
    "\n",
    "outputs = np.hstack((outputs1[:, :11], outputs2, outputs3))\n",
    "gt_labels = np.hstack((gt_labels1[:, :11], gt_labels2, gt_labels3))\n",
    "\n",
    "head_score = calculate_mAP(outputs[:, :22], gt_labels[:, :22])[0]\n",
    "mid_score = calculate_mAP(outputs[:, 22:55], gt_labels[:, 22:55])[0]\n",
    "tail_score = calculate_mAP(outputs[:, 55:], gt_labels[:, 55:])[0]\n",
    "total_score = calculate_mAP(outputs, gt_labels)[0]\n",
    "\n",
    "print(f\"head mAP: {head_score:.4f}\")\n",
    "print(f\"mid mAP: {mid_score:.4f}\")\n",
    "print(f\"tail mAP: {tail_score:.4f}\")\n",
    "print(f\"total mAP: {total_score:.4f}\")\n",
    "print([round(head_score, 4), round(mid_score, 4), round(tail_score, 4), round(total_score, 4)])\n"
   ]
  },
  {
   "cell_type": "code",
   "execution_count": 3,
   "metadata": {},
   "outputs": [
    {
     "name": "stdout",
     "output_type": "stream",
     "text": [
      "head mAP: 0.7502\n",
      "mid mAP: 0.8636\n",
      "tail mAP: 0.8939\n",
      "total mAP: 0.8417\n",
      "[0.7502, 0.8636, 0.8939, 0.8417]\n"
     ]
    }
   ],
   "source": [
    "# head_score = calculate_mAP(outputs[:, list(class_split[\"head\"])], gt_labels[:, list(class_split[\"head\"])])[0]\n",
    "# mid_score = calculate_mAP(outputs[:, list(class_split[\"middle\"])], gt_labels[:, list(class_split[\"middle\"])])[0]\n",
    "# tail_score = calculate_mAP(outputs[:, list(class_split[\"tail\"])], gt_labels[:, list(class_split[\"tail\"])])[0]\n",
    "\n",
    "# outputs1, gt_labels1 = get_gt_pred(f\"work_dirs/LT_coco_resnet50_pfc_DB_uniform_bce_35_6_group1_l0_r5/gt_and_results_e16.pkl\")\n",
    "# outputs2, gt_labels2 = get_gt_pred(f\"work_dirs/LT_coco_resnet50_pfc_DB_uniform_bce_35_6_group2/gt_and_results_e30.pkl\")\n",
    "# outputs3, gt_labels3 = get_gt_pred(f\"work_dirs/LT_coco_resnet50_pfc_DB_uniform_bce_35_6_group3/gt_and_results_e58.pkl\")\n",
    "\n",
    "\n",
    "outputs1, gt_labels1 = get_gt_pred(f\"work_dirs/LT_voc_resnet101_pfc_DB_uniform_bce_35_6_group1/gt_and_results_e7.pkl\")\n",
    "outputs2, gt_labels2 = get_gt_pred(f\"work_dirs/LT_voc_resnet101_pfc_DB_uniform_bce_35_6_group2/gt_and_results_e13.pkl\")\n",
    "outputs3, gt_labels3 = get_gt_pred(f\"work_dirs/LT_voc_resnet101_pfc_DB_uniform_bce_35_6_group3/gt_and_results_e60.pkl\")\n",
    "\n",
    "\n",
    "outputs = np.hstack((outputs1[:, :], outputs2, outputs3))\n",
    "gt_labels = np.hstack((gt_labels1[:, :], gt_labels2, gt_labels3))\n",
    "\n",
    "head_score = calculate_mAP(outputs[:, :6], gt_labels[:, :6])[0]\n",
    "mid_score = calculate_mAP(outputs[:, 6:12], gt_labels[:, 6:12])[0]\n",
    "tail_score = calculate_mAP(outputs[:, 12:], gt_labels[:, 12:])[0]\n",
    "total_score = calculate_mAP(outputs, gt_labels)[0]\n",
    "\n",
    "print(f\"head mAP: {head_score:.4f}\")\n",
    "print(f\"mid mAP: {mid_score:.4f}\")\n",
    "print(f\"tail mAP: {tail_score:.4f}\")\n",
    "print(f\"total mAP: {total_score:.4f}\")\n",
    "print([round(head_score, 4), round(mid_score, 4), round(tail_score, 4), round(total_score, 4)])\n"
   ]
  },
  {
   "cell_type": "code",
   "execution_count": 119,
   "metadata": {},
   "outputs": [
    {
     "data": {
      "text/plain": [
       "(5000, 80)"
      ]
     },
     "execution_count": 119,
     "metadata": {},
     "output_type": "execute_result"
    }
   ],
   "source": [
    "outputs.shape"
   ]
  },
  {
   "cell_type": "code",
   "execution_count": 9,
   "metadata": {},
   "outputs": [
    {
     "name": "stderr",
     "output_type": "stream",
     "text": [
      "  1%|▏         | 1/80 [00:00<00:32,  2.43it/s]"
     ]
    },
    {
     "name": "stdout",
     "output_type": "stream",
     "text": [
      "6.37 & 14.60 & 5.09 & 2.28\n"
     ]
    },
    {
     "name": "stderr",
     "output_type": "stream",
     "text": [
      "  2%|▎         | 2/80 [00:00<00:32,  2.40it/s]"
     ]
    },
    {
     "name": "stdout",
     "output_type": "stream",
     "text": [
      "9.92 & 24.48 & 8.33 & 2.40\n"
     ]
    },
    {
     "name": "stderr",
     "output_type": "stream",
     "text": [
      "  4%|▍         | 3/80 [00:01<00:28,  2.73it/s]"
     ]
    },
    {
     "name": "stdout",
     "output_type": "stream",
     "text": [
      "13.45 & 31.84 & 12.49 & 2.80\n"
     ]
    },
    {
     "name": "stderr",
     "output_type": "stream",
     "text": [
      "  5%|▌         | 4/80 [00:01<00:25,  3.01it/s]"
     ]
    },
    {
     "name": "stdout",
     "output_type": "stream",
     "text": [
      "17.49 & 37.46 & 18.33 & 3.38\n"
     ]
    },
    {
     "name": "stderr",
     "output_type": "stream",
     "text": [
      "  6%|▋         | 5/80 [00:01<00:22,  3.33it/s]"
     ]
    },
    {
     "name": "stdout",
     "output_type": "stream",
     "text": [
      "21.46 & 41.16 & 23.66 & 4.52\n"
     ]
    },
    {
     "name": "stderr",
     "output_type": "stream",
     "text": [
      "  8%|▊         | 6/80 [00:02<00:23,  3.18it/s]"
     ]
    },
    {
     "name": "stdout",
     "output_type": "stream",
     "text": [
      "25.28 & 43.97 & 29.38 & 5.47\n"
     ]
    },
    {
     "name": "stderr",
     "output_type": "stream",
     "text": [
      "  9%|▉         | 7/80 [00:02<00:21,  3.38it/s]"
     ]
    },
    {
     "name": "stdout",
     "output_type": "stream",
     "text": [
      "28.44 & 45.85 & 34.33 & 6.50\n"
     ]
    },
    {
     "name": "stderr",
     "output_type": "stream",
     "text": [
      " 10%|█         | 8/80 [00:02<00:19,  3.61it/s]"
     ]
    },
    {
     "name": "stdout",
     "output_type": "stream",
     "text": [
      "31.56 & 47.43 & 38.42 & 8.45\n"
     ]
    },
    {
     "name": "stderr",
     "output_type": "stream",
     "text": [
      " 11%|█▏        | 9/80 [00:02<00:19,  3.59it/s]"
     ]
    },
    {
     "name": "stdout",
     "output_type": "stream",
     "text": [
      "34.02 & 48.89 & 41.80 & 10.13\n"
     ]
    },
    {
     "name": "stderr",
     "output_type": "stream",
     "text": [
      " 12%|█▎        | 10/80 [00:03<00:19,  3.61it/s]"
     ]
    },
    {
     "name": "stdout",
     "output_type": "stream",
     "text": [
      "36.32 & 49.94 & 44.65 & 12.20\n"
     ]
    },
    {
     "name": "stderr",
     "output_type": "stream",
     "text": [
      " 14%|█▍        | 11/80 [00:03<00:18,  3.78it/s]"
     ]
    },
    {
     "name": "stdout",
     "output_type": "stream",
     "text": [
      "38.15 & 51.04 & 46.89 & 13.64\n"
     ]
    },
    {
     "name": "stderr",
     "output_type": "stream",
     "text": [
      " 15%|█▌        | 12/80 [00:03<00:18,  3.69it/s]"
     ]
    },
    {
     "name": "stdout",
     "output_type": "stream",
     "text": [
      "39.69 & 51.77 & 48.71 & 15.23\n"
     ]
    },
    {
     "name": "stderr",
     "output_type": "stream",
     "text": [
      " 16%|█▋        | 13/80 [00:03<00:17,  3.88it/s]"
     ]
    },
    {
     "name": "stdout",
     "output_type": "stream",
     "text": [
      "41.31 & 52.46 & 49.92 & 17.63\n"
     ]
    },
    {
     "name": "stderr",
     "output_type": "stream",
     "text": [
      " 18%|█▊        | 14/80 [00:04<00:16,  4.02it/s]"
     ]
    },
    {
     "name": "stdout",
     "output_type": "stream",
     "text": [
      "42.77 & 53.11 & 51.08 & 20.00\n"
     ]
    },
    {
     "name": "stderr",
     "output_type": "stream",
     "text": [
      " 19%|█▉        | 15/80 [00:04<00:18,  3.43it/s]"
     ]
    },
    {
     "name": "stdout",
     "output_type": "stream",
     "text": [
      "43.89 & 53.39 & 51.82 & 22.06\n"
     ]
    },
    {
     "name": "stderr",
     "output_type": "stream",
     "text": [
      " 20%|██        | 16/80 [00:04<00:19,  3.21it/s]"
     ]
    },
    {
     "name": "stdout",
     "output_type": "stream",
     "text": [
      "45.15 & 53.94 & 52.79 & 24.01\n"
     ]
    },
    {
     "name": "stderr",
     "output_type": "stream",
     "text": [
      " 21%|██▏       | 17/80 [00:05<00:22,  2.82it/s]"
     ]
    },
    {
     "name": "stdout",
     "output_type": "stream",
     "text": [
      "46.21 & 54.53 & 53.67 & 25.53\n"
     ]
    },
    {
     "name": "stderr",
     "output_type": "stream",
     "text": [
      " 22%|██▎       | 18/80 [00:05<00:21,  2.95it/s]"
     ]
    },
    {
     "name": "stdout",
     "output_type": "stream",
     "text": [
      "47.16 & 55.04 & 54.11 & 27.48\n"
     ]
    },
    {
     "name": "stderr",
     "output_type": "stream",
     "text": [
      " 24%|██▍       | 19/80 [00:05<00:20,  3.03it/s]"
     ]
    },
    {
     "name": "stdout",
     "output_type": "stream",
     "text": [
      "48.10 & 55.20 & 54.44 & 29.88\n"
     ]
    },
    {
     "name": "stderr",
     "output_type": "stream",
     "text": [
      " 25%|██▌       | 20/80 [00:06<00:22,  2.69it/s]"
     ]
    },
    {
     "name": "stdout",
     "output_type": "stream",
     "text": [
      "49.02 & 55.55 & 55.00 & 31.81\n"
     ]
    },
    {
     "name": "stderr",
     "output_type": "stream",
     "text": [
      " 26%|██▋       | 21/80 [00:06<00:20,  2.81it/s]"
     ]
    },
    {
     "name": "stdout",
     "output_type": "stream",
     "text": [
      "49.60 & 55.78 & 55.31 & 32.96\n"
     ]
    },
    {
     "name": "stderr",
     "output_type": "stream",
     "text": [
      " 28%|██▊       | 22/80 [00:06<00:19,  3.05it/s]"
     ]
    },
    {
     "name": "stdout",
     "output_type": "stream",
     "text": [
      "50.21 & 55.98 & 56.03 & 33.62\n"
     ]
    },
    {
     "name": "stderr",
     "output_type": "stream",
     "text": [
      " 29%|██▉       | 23/80 [00:07<00:18,  3.06it/s]"
     ]
    },
    {
     "name": "stdout",
     "output_type": "stream",
     "text": [
      "51.16 & 56.33 & 56.31 & 36.00\n"
     ]
    },
    {
     "name": "stderr",
     "output_type": "stream",
     "text": [
      " 30%|███       | 24/80 [00:07<00:19,  2.83it/s]"
     ]
    },
    {
     "name": "stdout",
     "output_type": "stream",
     "text": [
      "51.83 & 56.57 & 56.78 & 37.26\n"
     ]
    },
    {
     "name": "stderr",
     "output_type": "stream",
     "text": [
      " 31%|███▏      | 25/80 [00:07<00:17,  3.12it/s]"
     ]
    },
    {
     "name": "stdout",
     "output_type": "stream",
     "text": [
      "52.37 & 56.51 & 57.04 & 38.77\n"
     ]
    },
    {
     "name": "stderr",
     "output_type": "stream",
     "text": [
      " 32%|███▎      | 26/80 [00:08<00:15,  3.43it/s]"
     ]
    },
    {
     "name": "stdout",
     "output_type": "stream",
     "text": [
      "52.20 & 56.54 & 56.92 & 38.26\n"
     ]
    },
    {
     "name": "stderr",
     "output_type": "stream",
     "text": [
      " 34%|███▍      | 27/80 [00:08<00:14,  3.64it/s]"
     ]
    },
    {
     "name": "stdout",
     "output_type": "stream",
     "text": [
      "53.38 & 56.76 & 57.47 & 41.08\n"
     ]
    },
    {
     "name": "stderr",
     "output_type": "stream",
     "text": [
      " 35%|███▌      | 28/80 [00:08<00:13,  3.76it/s]"
     ]
    },
    {
     "name": "stdout",
     "output_type": "stream",
     "text": [
      "53.75 & 57.03 & 57.67 & 41.79\n"
     ]
    },
    {
     "name": "stderr",
     "output_type": "stream",
     "text": [
      " 36%|███▋      | 29/80 [00:08<00:13,  3.82it/s]"
     ]
    },
    {
     "name": "stdout",
     "output_type": "stream",
     "text": [
      "54.13 & 57.02 & 58.00 & 42.35\n"
     ]
    },
    {
     "name": "stderr",
     "output_type": "stream",
     "text": [
      " 38%|███▊      | 30/80 [00:09<00:12,  3.90it/s]"
     ]
    },
    {
     "name": "stdout",
     "output_type": "stream",
     "text": [
      "54.52 & 56.92 & 58.14 & 43.46\n"
     ]
    },
    {
     "name": "stderr",
     "output_type": "stream",
     "text": [
      " 39%|███▉      | 31/80 [00:09<00:12,  3.95it/s]"
     ]
    },
    {
     "name": "stdout",
     "output_type": "stream",
     "text": [
      "54.79 & 57.06 & 58.20 & 44.24\n"
     ]
    },
    {
     "name": "stderr",
     "output_type": "stream",
     "text": [
      " 40%|████      | 32/80 [00:09<00:14,  3.36it/s]"
     ]
    },
    {
     "name": "stdout",
     "output_type": "stream",
     "text": [
      "54.89 & 57.29 & 58.48 & 44.12\n"
     ]
    },
    {
     "name": "stderr",
     "output_type": "stream",
     "text": [
      " 41%|████▏     | 33/80 [00:10<00:14,  3.31it/s]"
     ]
    },
    {
     "name": "stdout",
     "output_type": "stream",
     "text": [
      "55.57 & 57.13 & 58.63 & 46.01\n"
     ]
    },
    {
     "name": "stderr",
     "output_type": "stream",
     "text": [
      " 42%|████▎     | 34/80 [00:10<00:14,  3.26it/s]"
     ]
    },
    {
     "name": "stdout",
     "output_type": "stream",
     "text": [
      "55.73 & 57.28 & 58.64 & 46.50\n"
     ]
    },
    {
     "name": "stderr",
     "output_type": "stream",
     "text": [
      " 44%|████▍     | 35/80 [00:10<00:16,  2.81it/s]"
     ]
    },
    {
     "name": "stdout",
     "output_type": "stream",
     "text": [
      "56.06 & 57.33 & 58.84 & 47.23\n"
     ]
    },
    {
     "name": "stderr",
     "output_type": "stream",
     "text": [
      " 45%|████▌     | 36/80 [00:11<00:17,  2.51it/s]"
     ]
    },
    {
     "name": "stdout",
     "output_type": "stream",
     "text": [
      "56.30 & 57.34 & 58.87 & 47.84\n"
     ]
    },
    {
     "name": "stderr",
     "output_type": "stream",
     "text": [
      " 46%|████▋     | 37/80 [00:11<00:15,  2.77it/s]"
     ]
    },
    {
     "name": "stdout",
     "output_type": "stream",
     "text": [
      "56.43 & 57.22 & 59.05 & 48.09\n"
     ]
    },
    {
     "name": "stderr",
     "output_type": "stream",
     "text": [
      " 48%|████▊     | 38/80 [00:11<00:14,  2.97it/s]"
     ]
    },
    {
     "name": "stdout",
     "output_type": "stream",
     "text": [
      "56.54 & 57.25 & 59.07 & 48.44\n"
     ]
    },
    {
     "name": "stderr",
     "output_type": "stream",
     "text": [
      " 49%|████▉     | 39/80 [00:12<00:12,  3.20it/s]"
     ]
    },
    {
     "name": "stdout",
     "output_type": "stream",
     "text": [
      "56.96 & 57.31 & 59.18 & 49.55\n"
     ]
    },
    {
     "name": "stderr",
     "output_type": "stream",
     "text": [
      " 50%|█████     | 40/80 [00:12<00:11,  3.40it/s]"
     ]
    },
    {
     "name": "stdout",
     "output_type": "stream",
     "text": [
      "56.91 & 57.21 & 59.15 & 49.40\n"
     ]
    },
    {
     "name": "stderr",
     "output_type": "stream",
     "text": [
      " 51%|█████▏    | 41/80 [00:12<00:11,  3.47it/s]"
     ]
    },
    {
     "name": "stdout",
     "output_type": "stream",
     "text": [
      "56.91 & 57.31 & 59.24 & 49.33\n"
     ]
    },
    {
     "name": "stderr",
     "output_type": "stream",
     "text": [
      " 52%|█████▎    | 42/80 [00:12<00:10,  3.55it/s]"
     ]
    },
    {
     "name": "stdout",
     "output_type": "stream",
     "text": [
      "57.18 & 56.94 & 59.25 & 50.17\n"
     ]
    },
    {
     "name": "stderr",
     "output_type": "stream",
     "text": [
      " 54%|█████▍    | 43/80 [00:13<00:09,  3.70it/s]"
     ]
    },
    {
     "name": "stdout",
     "output_type": "stream",
     "text": [
      "57.34 & 57.24 & 59.51 & 50.30\n"
     ]
    },
    {
     "name": "stderr",
     "output_type": "stream",
     "text": [
      " 55%|█████▌    | 44/80 [00:13<00:09,  3.82it/s]"
     ]
    },
    {
     "name": "stdout",
     "output_type": "stream",
     "text": [
      "57.58 & 57.36 & 59.66 & 50.77\n"
     ]
    },
    {
     "name": "stderr",
     "output_type": "stream",
     "text": [
      " 56%|█████▋    | 45/80 [00:13<00:09,  3.85it/s]"
     ]
    },
    {
     "name": "stdout",
     "output_type": "stream",
     "text": [
      "57.52 & 57.24 & 59.63 & 50.68\n"
     ]
    },
    {
     "name": "stderr",
     "output_type": "stream",
     "text": [
      " 57%|█████▊    | 46/80 [00:13<00:08,  3.91it/s]"
     ]
    },
    {
     "name": "stdout",
     "output_type": "stream",
     "text": [
      "57.74 & 57.27 & 59.71 & 51.27\n"
     ]
    },
    {
     "name": "stderr",
     "output_type": "stream",
     "text": [
      " 59%|█████▉    | 47/80 [00:14<00:08,  3.74it/s]"
     ]
    },
    {
     "name": "stdout",
     "output_type": "stream",
     "text": [
      "57.69 & 57.22 & 59.61 & 51.29\n"
     ]
    },
    {
     "name": "stderr",
     "output_type": "stream",
     "text": [
      " 60%|██████    | 48/80 [00:14<00:08,  3.89it/s]"
     ]
    },
    {
     "name": "stdout",
     "output_type": "stream",
     "text": [
      "57.87 & 56.99 & 59.78 & 51.67\n"
     ]
    },
    {
     "name": "stderr",
     "output_type": "stream",
     "text": [
      " 61%|██████▏   | 49/80 [00:14<00:07,  4.06it/s]"
     ]
    },
    {
     "name": "stdout",
     "output_type": "stream",
     "text": [
      "57.72 & 56.59 & 59.68 & 51.58\n"
     ]
    },
    {
     "name": "stderr",
     "output_type": "stream",
     "text": [
      " 62%|██████▎   | 50/80 [00:14<00:07,  4.05it/s]"
     ]
    },
    {
     "name": "stdout",
     "output_type": "stream",
     "text": [
      "57.78 & 56.76 & 59.52 & 51.77\n"
     ]
    },
    {
     "name": "stderr",
     "output_type": "stream",
     "text": [
      " 64%|██████▍   | 51/80 [00:15<00:07,  4.02it/s]"
     ]
    },
    {
     "name": "stdout",
     "output_type": "stream",
     "text": [
      "57.89 & 56.73 & 59.71 & 51.84\n"
     ]
    },
    {
     "name": "stderr",
     "output_type": "stream",
     "text": [
      " 65%|██████▌   | 52/80 [00:15<00:07,  3.99it/s]"
     ]
    },
    {
     "name": "stdout",
     "output_type": "stream",
     "text": [
      "58.06 & 56.66 & 59.76 & 52.37\n"
     ]
    },
    {
     "name": "stderr",
     "output_type": "stream",
     "text": [
      " 66%|██████▋   | 53/80 [00:15<00:06,  3.88it/s]"
     ]
    },
    {
     "name": "stdout",
     "output_type": "stream",
     "text": [
      "58.16 & 56.68 & 59.83 & 52.61\n"
     ]
    },
    {
     "name": "stderr",
     "output_type": "stream",
     "text": [
      " 68%|██████▊   | 54/80 [00:15<00:06,  3.75it/s]"
     ]
    },
    {
     "name": "stdout",
     "output_type": "stream",
     "text": [
      "58.22 & 56.64 & 59.90 & 52.75\n"
     ]
    },
    {
     "name": "stderr",
     "output_type": "stream",
     "text": [
      " 69%|██████▉   | 55/80 [00:16<00:06,  3.66it/s]"
     ]
    },
    {
     "name": "stdout",
     "output_type": "stream",
     "text": [
      "58.13 & 56.40 & 59.69 & 52.78\n"
     ]
    },
    {
     "name": "stderr",
     "output_type": "stream",
     "text": [
      " 70%|███████   | 56/80 [00:16<00:06,  3.49it/s]"
     ]
    },
    {
     "name": "stdout",
     "output_type": "stream",
     "text": [
      "58.17 & 56.56 & 59.81 & 52.65\n"
     ]
    },
    {
     "name": "stderr",
     "output_type": "stream",
     "text": [
      " 71%|███████▏  | 57/80 [00:16<00:06,  3.63it/s]"
     ]
    },
    {
     "name": "stdout",
     "output_type": "stream",
     "text": [
      "58.09 & 56.36 & 59.67 & 52.69\n"
     ]
    },
    {
     "name": "stderr",
     "output_type": "stream",
     "text": [
      " 72%|███████▎  | 58/80 [00:17<00:06,  3.49it/s]"
     ]
    },
    {
     "name": "stdout",
     "output_type": "stream",
     "text": [
      "58.06 & 56.42 & 59.66 & 52.69\n"
     ]
    },
    {
     "name": "stderr",
     "output_type": "stream",
     "text": [
      " 74%|███████▍  | 59/80 [00:17<00:05,  3.52it/s]"
     ]
    },
    {
     "name": "stdout",
     "output_type": "stream",
     "text": [
      "58.23 & 56.44 & 59.81 & 52.99\n"
     ]
    },
    {
     "name": "stderr",
     "output_type": "stream",
     "text": [
      " 75%|███████▌  | 60/80 [00:17<00:06,  3.21it/s]"
     ]
    },
    {
     "name": "stdout",
     "output_type": "stream",
     "text": [
      "58.19 & 56.50 & 59.76 & 52.85\n"
     ]
    },
    {
     "name": "stderr",
     "output_type": "stream",
     "text": [
      " 76%|███████▋  | 61/80 [00:18<00:05,  3.31it/s]"
     ]
    },
    {
     "name": "stdout",
     "output_type": "stream",
     "text": [
      "57.98 & 56.31 & 59.63 & 52.47\n"
     ]
    },
    {
     "name": "stderr",
     "output_type": "stream",
     "text": [
      " 78%|███████▊  | 62/80 [00:18<00:05,  3.38it/s]"
     ]
    },
    {
     "name": "stdout",
     "output_type": "stream",
     "text": [
      "58.24 & 56.47 & 59.75 & 53.03\n"
     ]
    },
    {
     "name": "stderr",
     "output_type": "stream",
     "text": [
      " 79%|███████▉  | 63/80 [00:18<00:04,  3.54it/s]"
     ]
    },
    {
     "name": "stdout",
     "output_type": "stream",
     "text": [
      "58.17 & 56.49 & 59.74 & 52.81\n"
     ]
    },
    {
     "name": "stderr",
     "output_type": "stream",
     "text": [
      " 80%|████████  | 64/80 [00:18<00:04,  3.32it/s]"
     ]
    },
    {
     "name": "stdout",
     "output_type": "stream",
     "text": [
      "58.13 & 56.46 & 59.83 & 52.68\n"
     ]
    },
    {
     "name": "stderr",
     "output_type": "stream",
     "text": [
      " 81%|████████▏ | 65/80 [00:19<00:05,  2.78it/s]"
     ]
    },
    {
     "name": "stdout",
     "output_type": "stream",
     "text": [
      "58.27 & 56.64 & 59.96 & 52.80\n"
     ]
    },
    {
     "name": "stderr",
     "output_type": "stream",
     "text": [
      " 82%|████████▎ | 66/80 [00:20<00:09,  1.41it/s]"
     ]
    },
    {
     "name": "stdout",
     "output_type": "stream",
     "text": [
      "58.23 & 56.49 & 59.84 & 52.87\n"
     ]
    },
    {
     "name": "stderr",
     "output_type": "stream",
     "text": [
      " 84%|████████▍ | 67/80 [00:21<00:07,  1.70it/s]"
     ]
    },
    {
     "name": "stdout",
     "output_type": "stream",
     "text": [
      "58.33 & 56.49 & 59.86 & 53.10\n"
     ]
    },
    {
     "name": "stderr",
     "output_type": "stream",
     "text": [
      " 85%|████████▌ | 68/80 [00:21<00:05,  2.07it/s]"
     ]
    },
    {
     "name": "stdout",
     "output_type": "stream",
     "text": [
      "58.16 & 56.43 & 59.74 & 52.82\n"
     ]
    },
    {
     "name": "stderr",
     "output_type": "stream",
     "text": [
      " 86%|████████▋ | 69/80 [00:21<00:04,  2.44it/s]"
     ]
    },
    {
     "name": "stdout",
     "output_type": "stream",
     "text": [
      "58.18 & 56.30 & 59.80 & 52.85\n"
     ]
    },
    {
     "name": "stderr",
     "output_type": "stream",
     "text": [
      " 88%|████████▊ | 70/80 [00:21<00:03,  2.82it/s]"
     ]
    },
    {
     "name": "stdout",
     "output_type": "stream",
     "text": [
      "58.10 & 56.36 & 59.75 & 52.65\n"
     ]
    },
    {
     "name": "stderr",
     "output_type": "stream",
     "text": [
      " 89%|████████▉ | 71/80 [00:22<00:02,  3.15it/s]"
     ]
    },
    {
     "name": "stdout",
     "output_type": "stream",
     "text": [
      "58.26 & 56.49 & 59.77 & 53.09\n"
     ]
    },
    {
     "name": "stderr",
     "output_type": "stream",
     "text": [
      " 90%|█████████ | 72/80 [00:22<00:02,  3.40it/s]"
     ]
    },
    {
     "name": "stdout",
     "output_type": "stream",
     "text": [
      "58.18 & 56.33 & 59.76 & 52.89\n"
     ]
    },
    {
     "name": "stderr",
     "output_type": "stream",
     "text": [
      " 91%|█████████▏| 73/80 [00:22<00:01,  3.65it/s]"
     ]
    },
    {
     "name": "stdout",
     "output_type": "stream",
     "text": [
      "58.30 & 56.37 & 59.79 & 53.19\n"
     ]
    },
    {
     "name": "stderr",
     "output_type": "stream",
     "text": [
      " 92%|█████████▎| 74/80 [00:22<00:01,  3.89it/s]"
     ]
    },
    {
     "name": "stdout",
     "output_type": "stream",
     "text": [
      "58.20 & 56.26 & 59.82 & 52.87\n"
     ]
    },
    {
     "name": "stderr",
     "output_type": "stream",
     "text": [
      " 94%|█████████▍| 75/80 [00:23<00:01,  3.86it/s]"
     ]
    },
    {
     "name": "stdout",
     "output_type": "stream",
     "text": [
      "58.19 & 56.35 & 59.77 & 52.91\n"
     ]
    },
    {
     "name": "stderr",
     "output_type": "stream",
     "text": [
      " 95%|█████████▌| 76/80 [00:23<00:01,  3.80it/s]"
     ]
    },
    {
     "name": "stdout",
     "output_type": "stream",
     "text": [
      "58.08 & 56.33 & 59.68 & 52.70\n"
     ]
    },
    {
     "name": "stderr",
     "output_type": "stream",
     "text": [
      " 96%|█████████▋| 77/80 [00:23<00:00,  4.00it/s]"
     ]
    },
    {
     "name": "stdout",
     "output_type": "stream",
     "text": [
      "58.16 & 56.43 & 59.77 & 52.79\n"
     ]
    },
    {
     "name": "stderr",
     "output_type": "stream",
     "text": [
      " 98%|█████████▊| 78/80 [00:23<00:00,  4.11it/s]"
     ]
    },
    {
     "name": "stdout",
     "output_type": "stream",
     "text": [
      "58.33 & 56.57 & 59.96 & 53.01\n"
     ]
    },
    {
     "name": "stderr",
     "output_type": "stream",
     "text": [
      " 99%|█████████▉| 79/80 [00:24<00:00,  4.18it/s]"
     ]
    },
    {
     "name": "stdout",
     "output_type": "stream",
     "text": [
      "58.25 & 56.42 & 59.79 & 53.00\n"
     ]
    },
    {
     "name": "stderr",
     "output_type": "stream",
     "text": [
      "100%|██████████| 80/80 [00:24<00:00,  3.28it/s]"
     ]
    },
    {
     "name": "stdout",
     "output_type": "stream",
     "text": [
      "58.32 & 56.52 & 59.85 & 53.12\n",
      "Best head mAP: 0.5736 at epoch 44\n",
      "Best mid mAP: 0.5996 at epoch 78\n",
      "Best tail mAP: 0.5319 at epoch 73\n",
      "Best total mAP: 0.5833 at epoch 78\n"
     ]
    },
    {
     "name": "stderr",
     "output_type": "stream",
     "text": [
      "\n"
     ]
    }
   ],
   "source": [
    "class_split = mmcv.load(\"appendix/coco/longtail2017/class_split.pkl\")\n",
    "\n",
    "from tqdm import tqdm\n",
    "best_head_e = 0\n",
    "best_head_score = 0\n",
    "best_mid_e = 0\n",
    "best_mid_score = 0\n",
    "best_tail_e = 0\n",
    "best_tail_score = 0\n",
    "best_total_e = 0\n",
    "best_total_score = 0\n",
    "\n",
    "for i in tqdm(range( 1, 81)):\n",
    "    outputs, gt_labels = get_gt_pred(f\"work_dirs/LT_coco_resnet50_pfc_DB_uniform_bce_35_6_group1_l0_r18/gt_and_results_e{i}.pkl\")\n",
    "\n",
    "    # head_score = calculate_mAP(outputs[:, list(class_split[\"head\"])], gt_labels[:, list(class_split[\"head\"])])[0]\n",
    "    # mid_score = calculate_mAP(outputs[:, list(class_split[\"middle\"])], gt_labels[:, list(class_split[\"middle\"])])[0]\n",
    "    # tail_score = calculate_mAP(outputs[:, list(class_split[\"tail\"])], gt_labels[:, list(class_split[\"tail\"])])[0]\n",
    "\n",
    "\n",
    "    head_score = calculate_mAP(outputs[:, :22], gt_labels[:, :22])[0]\n",
    "    mid_score = calculate_mAP(outputs[:, 11:50], gt_labels[:, 11:50])[0]\n",
    "    tail_score = calculate_mAP(outputs[:, 55:], gt_labels[:, 55:])[0]\n",
    "    total_score = calculate_mAP(outputs, gt_labels)[0]\n",
    "    if tail_score > best_tail_score:\n",
    "        best_tail_score = tail_score\n",
    "        best_tail_e = i\n",
    "    if head_score > best_head_score:\n",
    "        best_head_score = head_score\n",
    "        best_head_e = i\n",
    "    if mid_score > best_mid_score:\n",
    "        best_mid_score = mid_score\n",
    "        best_mid_e = i\n",
    "    if total_score > best_total_score:\n",
    "        best_total_score = total_score\n",
    "        best_total_e = i\n",
    "    # print(f\"head mAP: {head_score:.4f}\")\n",
    "    # print(f\"mid mAP: {mid_score:.4f}\")\n",
    "    # print(f\"tail mAP: {tail_score:.4f}\")\n",
    "    # print(f\"total mAP: {total_score:.4f}\")\n",
    "    # print([head_score])\n",
    "    print(f\"{100*total_score:.2f} & {100*head_score:.2f} & {100*mid_score:.2f} & {100*tail_score:.2f}\")\n",
    "\n",
    "print(f\"Best head mAP: {best_head_score:.4f} at epoch {best_head_e}\")\n",
    "print(f\"Best mid mAP: {best_mid_score:.4f} at epoch {best_mid_e}\")\n",
    "print(f\"Best tail mAP: {best_tail_score:.4f} at epoch {best_tail_e}\")\n",
    "print(f\"Best total mAP: {best_total_score:.4f} at epoch {best_total_e}\")\n",
    "\n",
    "# print(f\"{best_total}\")"
   ]
  },
  {
   "cell_type": "code",
   "execution_count": null,
   "metadata": {},
   "outputs": [],
   "source": []
  }
 ],
 "metadata": {
  "kernelspec": {
   "display_name": ".venv",
   "language": "python",
   "name": "python3"
  },
  "language_info": {
   "codemirror_mode": {
    "name": "ipython",
    "version": 3
   },
   "file_extension": ".py",
   "mimetype": "text/x-python",
   "name": "python",
   "nbconvert_exporter": "python",
   "pygments_lexer": "ipython3",
   "version": "3.8.18"
  }
 },
 "nbformat": 4,
 "nbformat_minor": 2
}
